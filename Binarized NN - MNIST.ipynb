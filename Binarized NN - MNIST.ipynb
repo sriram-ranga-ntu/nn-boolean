{
 "cells": [
  {
   "cell_type": "code",
   "execution_count": 31,
   "id": "f497079c",
   "metadata": {},
   "outputs": [],
   "source": [
    "import torch\n",
    "import torch.nn as nn\n",
    "import torch.optim as optim\n",
    "import torchvision\n",
    "import torchvision.transforms as transforms\n",
    "from collections import OrderedDict"
   ]
  },
  {
   "cell_type": "code",
   "execution_count": 2,
   "id": "cbb363e5",
   "metadata": {},
   "outputs": [],
   "source": [
    "class BinarizeLayer(torch.autograd.Function):\n",
    "    @staticmethod\n",
    "    def forward(ctx, input):\n",
    "        ctx.save_for_backward(input)\n",
    "        return torch.sign(input)\n",
    "\n",
    "    @staticmethod\n",
    "    def backward(ctx, grad_output):\n",
    "        input, = ctx.saved_tensors\n",
    "        grad_input = grad_output.clone()\n",
    "        grad_input[input.ge(1)] = 0\n",
    "        grad_input[input.le(-1)] = 0\n",
    "        return grad_input"
   ]
  },
  {
   "cell_type": "code",
   "execution_count": 3,
   "id": "448a042d",
   "metadata": {},
   "outputs": [],
   "source": [
    "class BinarizedNN(nn.Module):\n",
    "    def __init__(self):\n",
    "        super(BinarizedNN, self).__init__()\n",
    "        self.fc1 = nn.Linear(784, 300)\n",
    "        self.fc2 = nn.Linear(300, 100)\n",
    "        self.fc3 = nn.Linear(100, 10)\n",
    "\n",
    "    def forward(self, x):\n",
    "        x = x.view(x.size(0), -1)  # Flatten the input\n",
    "        x = BinarizeLayer.apply(self.fc1(x))\n",
    "        x = BinarizeLayer.apply(self.fc2(x))\n",
    "        x = self.fc3(x)\n",
    "        return x"
   ]
  },
  {
   "cell_type": "code",
   "execution_count": 4,
   "id": "c8b296e9",
   "metadata": {
    "collapsed": true
   },
   "outputs": [
    {
     "name": "stdout",
     "output_type": "stream",
     "text": [
      "Downloading http://yann.lecun.com/exdb/mnist/train-images-idx3-ubyte.gz\n",
      "Downloading http://yann.lecun.com/exdb/mnist/train-images-idx3-ubyte.gz to ./data\\MNIST\\raw\\train-images-idx3-ubyte.gz\n"
     ]
    },
    {
     "name": "stderr",
     "output_type": "stream",
     "text": [
      "100%|█████████████████████████████████████████████████████████████████| 9912422/9912422 [00:00<00:00, 115467879.91it/s]\n"
     ]
    },
    {
     "name": "stdout",
     "output_type": "stream",
     "text": [
      "Extracting ./data\\MNIST\\raw\\train-images-idx3-ubyte.gz to ./data\\MNIST\\raw\n",
      "\n",
      "Downloading http://yann.lecun.com/exdb/mnist/train-labels-idx1-ubyte.gz\n",
      "Downloading http://yann.lecun.com/exdb/mnist/train-labels-idx1-ubyte.gz to ./data\\MNIST\\raw\\train-labels-idx1-ubyte.gz\n"
     ]
    },
    {
     "name": "stderr",
     "output_type": "stream",
     "text": [
      "100%|██████████████████████████████████████████████████████████████████████| 28881/28881 [00:00<00:00, 28903768.51it/s]"
     ]
    },
    {
     "name": "stdout",
     "output_type": "stream",
     "text": [
      "Extracting ./data\\MNIST\\raw\\train-labels-idx1-ubyte.gz to ./data\\MNIST\\raw\n",
      "\n",
      "Downloading http://yann.lecun.com/exdb/mnist/t10k-images-idx3-ubyte.gz\n"
     ]
    },
    {
     "name": "stderr",
     "output_type": "stream",
     "text": [
      "\n"
     ]
    },
    {
     "name": "stdout",
     "output_type": "stream",
     "text": [
      "Downloading http://yann.lecun.com/exdb/mnist/t10k-images-idx3-ubyte.gz to ./data\\MNIST\\raw\\t10k-images-idx3-ubyte.gz\n"
     ]
    },
    {
     "name": "stderr",
     "output_type": "stream",
     "text": [
      "100%|██████████████████████████████████████████████████████████████████| 1648877/1648877 [00:00<00:00, 82432136.60it/s]"
     ]
    },
    {
     "name": "stdout",
     "output_type": "stream",
     "text": [
      "Extracting ./data\\MNIST\\raw\\t10k-images-idx3-ubyte.gz to ./data\\MNIST\\raw\n"
     ]
    },
    {
     "name": "stderr",
     "output_type": "stream",
     "text": [
      "\n"
     ]
    },
    {
     "name": "stdout",
     "output_type": "stream",
     "text": [
      "\n",
      "Downloading http://yann.lecun.com/exdb/mnist/t10k-labels-idx1-ubyte.gz\n",
      "Downloading http://yann.lecun.com/exdb/mnist/t10k-labels-idx1-ubyte.gz to ./data\\MNIST\\raw\\t10k-labels-idx1-ubyte.gz\n"
     ]
    },
    {
     "name": "stderr",
     "output_type": "stream",
     "text": [
      "100%|█████████████████████████████████████████████████████████████████████████| 4542/4542 [00:00<00:00, 4513273.81it/s]"
     ]
    },
    {
     "name": "stdout",
     "output_type": "stream",
     "text": [
      "Extracting ./data\\MNIST\\raw\\t10k-labels-idx1-ubyte.gz to ./data\\MNIST\\raw\n",
      "\n"
     ]
    },
    {
     "name": "stderr",
     "output_type": "stream",
     "text": [
      "\n"
     ]
    }
   ],
   "source": [
    "batch_size = 64\n",
    "learning_rate = 0.01\n",
    "num_epochs = 10\n",
    "\n",
    "# Data loading and preprocessing\n",
    "transform = transforms.Compose([transforms.ToTensor(), transforms.Normalize((0.5,), (0.5,))])\n",
    "train_dataset = torchvision.datasets.MNIST(root='./data', train=True, transform=transform, download=True)\n",
    "train_loader = torch.utils.data.DataLoader(train_dataset, batch_size=batch_size, shuffle=True)"
   ]
  },
  {
   "cell_type": "code",
   "execution_count": 20,
   "id": "ff428955",
   "metadata": {},
   "outputs": [],
   "source": [
    "# Initialize the BNN model and optimizer\n",
    "model = BinarizedNN()\n",
    "optimizer = optim.SGD(model.parameters(), lr=learning_rate)\n",
    "criterion = nn.CrossEntropyLoss()"
   ]
  },
  {
   "cell_type": "code",
   "execution_count": 21,
   "id": "7f3cd025",
   "metadata": {},
   "outputs": [
    {
     "name": "stdout",
     "output_type": "stream",
     "text": [
      "Epoch 1, Loss: 0.6633775181639423\n",
      "Epoch 2, Loss: 0.35575889029514307\n",
      "Epoch 3, Loss: 0.3080278907948211\n",
      "Epoch 4, Loss: 0.2790021988025098\n",
      "Epoch 5, Loss: 0.2534144875813903\n",
      "Epoch 6, Loss: 0.23483009349658038\n",
      "Epoch 7, Loss: 0.21899899395146985\n",
      "Epoch 8, Loss: 0.206202835765983\n",
      "Epoch 9, Loss: 0.19348944301035867\n",
      "Epoch 10, Loss: 0.18290339778465375\n"
     ]
    }
   ],
   "source": [
    "for epoch in range(num_epochs):\n",
    "    total_loss = 0.0\n",
    "    for i, data in enumerate(train_loader, 0):\n",
    "        inputs, labels = data\n",
    "        optimizer.zero_grad()\n",
    "\n",
    "        # Forward pass\n",
    "        outputs = model(inputs)\n",
    "\n",
    "        # Compute loss\n",
    "        loss = criterion(outputs, labels)\n",
    "\n",
    "        # Backpropagation\n",
    "        loss.backward()\n",
    "        optimizer.step()\n",
    "\n",
    "        total_loss += loss.item()\n",
    "\n",
    "    print(f'Epoch {epoch + 1}, Loss: {total_loss / len(train_loader)}')\n"
   ]
  },
  {
   "cell_type": "code",
   "execution_count": 17,
   "id": "0cd8246a",
   "metadata": {
    "collapsed": true
   },
   "outputs": [
    {
     "name": "stdout",
     "output_type": "stream",
     "text": [
      "torch.Size([1, 28, 28])\n",
      "tensor([[[-1.0000, -1.0000, -1.0000, -1.0000, -1.0000, -1.0000, -1.0000,\n",
      "          -1.0000, -1.0000, -1.0000, -1.0000, -1.0000, -1.0000, -1.0000,\n",
      "          -1.0000, -1.0000, -1.0000, -1.0000, -1.0000, -1.0000, -1.0000,\n",
      "          -1.0000, -1.0000, -1.0000, -1.0000, -1.0000, -1.0000, -1.0000],\n",
      "         [-1.0000, -1.0000, -1.0000, -1.0000, -1.0000, -1.0000, -1.0000,\n",
      "          -1.0000, -1.0000, -1.0000, -1.0000, -1.0000, -1.0000, -1.0000,\n",
      "          -1.0000, -1.0000, -1.0000, -1.0000, -1.0000, -1.0000, -1.0000,\n",
      "          -1.0000, -1.0000, -1.0000, -1.0000, -1.0000, -1.0000, -1.0000],\n",
      "         [-1.0000, -1.0000, -1.0000, -1.0000, -1.0000, -1.0000, -1.0000,\n",
      "          -1.0000, -1.0000, -1.0000, -1.0000, -1.0000, -1.0000, -1.0000,\n",
      "          -1.0000, -1.0000, -1.0000, -1.0000, -1.0000, -1.0000, -1.0000,\n",
      "          -1.0000, -1.0000, -1.0000, -1.0000, -1.0000, -1.0000, -1.0000],\n",
      "         [-1.0000, -1.0000, -1.0000, -1.0000, -1.0000, -1.0000, -1.0000,\n",
      "          -1.0000, -1.0000, -1.0000, -1.0000, -1.0000, -1.0000, -1.0000,\n",
      "          -1.0000, -1.0000, -1.0000, -1.0000, -1.0000, -1.0000, -1.0000,\n",
      "          -1.0000, -1.0000, -1.0000, -1.0000, -1.0000, -1.0000, -1.0000],\n",
      "         [-1.0000, -1.0000, -1.0000, -1.0000, -1.0000, -1.0000, -1.0000,\n",
      "          -1.0000, -1.0000, -1.0000, -1.0000, -1.0000, -1.0000, -1.0000,\n",
      "          -1.0000, -1.0000, -1.0000, -1.0000, -1.0000, -1.0000, -1.0000,\n",
      "          -1.0000, -1.0000, -1.0000, -1.0000, -1.0000, -1.0000, -1.0000],\n",
      "         [-1.0000, -1.0000, -1.0000, -1.0000, -1.0000, -1.0000, -1.0000,\n",
      "          -1.0000, -1.0000, -1.0000, -1.0000, -1.0000, -1.0000, -1.0000,\n",
      "          -1.0000, -1.0000, -1.0000, -1.0000, -1.0000, -1.0000, -1.0000,\n",
      "          -1.0000, -1.0000, -1.0000, -1.0000, -1.0000, -1.0000, -1.0000],\n",
      "         [-1.0000, -1.0000, -1.0000, -1.0000, -1.0000, -1.0000, -1.0000,\n",
      "          -1.0000, -1.0000, -1.0000, -1.0000, -1.0000, -1.0000, -1.0000,\n",
      "          -1.0000, -1.0000, -0.7020, -0.6235, -0.6235, -0.8275, -1.0000,\n",
      "          -1.0000, -1.0000, -1.0000, -1.0000, -1.0000, -1.0000, -1.0000],\n",
      "         [-1.0000, -1.0000, -1.0000, -1.0000, -1.0000, -1.0000, -1.0000,\n",
      "          -1.0000, -1.0000, -1.0000, -1.0000, -1.0000, -1.0000, -0.5137,\n",
      "          -0.2392,  0.5529,  0.9059,  0.9922,  0.9922,  0.6627, -0.7882,\n",
      "          -1.0000, -1.0000, -1.0000, -1.0000, -1.0000, -1.0000, -1.0000],\n",
      "         [-1.0000, -1.0000, -1.0000, -1.0000, -1.0000, -1.0000, -1.0000,\n",
      "          -1.0000, -1.0000, -1.0000, -1.0000, -1.0000, -0.4745,  0.3490,\n",
      "           0.9922,  0.9922,  0.7647,  0.7098,  0.7098,  0.8588,  0.9451,\n",
      "          -0.6863, -1.0000, -0.8353,  0.2863,  0.4667, -1.0000, -1.0000],\n",
      "         [-1.0000, -1.0000, -1.0000, -1.0000, -1.0000, -1.0000, -1.0000,\n",
      "          -1.0000, -1.0000, -1.0000, -1.0000, -0.3020,  0.7176,  0.9922,\n",
      "          -0.2392, -0.4745, -0.8902, -1.0000, -1.0000, -0.2784,  0.8118,\n",
      "          -0.0431, -0.8196,  0.5922,  0.8510, -0.5373, -1.0000, -1.0000],\n",
      "         [-1.0000, -1.0000, -1.0000, -1.0000, -1.0000, -1.0000, -1.0000,\n",
      "          -1.0000, -1.0000, -1.0000, -0.8039,  0.7020,  0.8980, -0.2784,\n",
      "          -0.9686, -1.0000, -1.0000, -1.0000, -1.0000, -0.9686,  0.1529,\n",
      "           0.9843,  0.8824,  0.8196, -0.2784, -1.0000, -1.0000, -1.0000],\n",
      "         [-1.0000, -1.0000, -1.0000, -1.0000, -1.0000, -1.0000, -1.0000,\n",
      "          -1.0000, -1.0000, -1.0000, -0.2078,  1.0000, -0.2784, -1.0000,\n",
      "          -1.0000, -1.0000, -1.0000, -1.0000, -1.0000, -0.1765,  0.9922,\n",
      "           0.9922,  0.3882, -0.9137, -1.0000, -1.0000, -1.0000, -1.0000],\n",
      "         [-1.0000, -1.0000, -1.0000, -1.0000, -1.0000, -1.0000, -1.0000,\n",
      "          -1.0000, -1.0000, -1.0000,  0.3098,  0.9137, -0.6784, -1.0000,\n",
      "          -1.0000, -1.0000, -0.9451, -0.4039,  0.5608,  0.8667,  0.8745,\n",
      "          -0.2627, -0.9216, -1.0000, -1.0000, -1.0000, -1.0000, -1.0000],\n",
      "         [-1.0000, -1.0000, -1.0000, -1.0000, -1.0000, -1.0000, -1.0000,\n",
      "          -1.0000, -1.0000, -1.0000,  0.5059, -0.0510, -1.0000, -1.0000,\n",
      "          -0.9843, -0.5059,  0.4118,  0.9922,  0.8275, -0.0118, -1.0000,\n",
      "          -1.0000, -1.0000, -1.0000, -1.0000, -1.0000, -1.0000, -1.0000],\n",
      "         [-1.0000, -1.0000, -1.0000, -1.0000, -1.0000, -1.0000, -1.0000,\n",
      "          -1.0000, -1.0000, -1.0000,  0.4902,  0.5373, -0.8902, -0.9843,\n",
      "          -0.2392,  0.9922,  0.9765,  0.1451, -0.5922, -1.0000, -1.0000,\n",
      "          -1.0000, -1.0000, -1.0000, -1.0000, -1.0000, -1.0000, -1.0000],\n",
      "         [-1.0000, -1.0000, -1.0000, -1.0000, -1.0000, -1.0000, -1.0000,\n",
      "          -1.0000, -1.0000, -1.0000,  0.0196,  0.7647, -0.4431,  0.4118,\n",
      "           0.8196,  0.4196, -0.5294, -1.0000, -1.0000, -1.0000, -1.0000,\n",
      "          -1.0000, -1.0000, -1.0000, -1.0000, -1.0000, -1.0000, -1.0000],\n",
      "         [-1.0000, -1.0000, -1.0000, -1.0000, -1.0000, -1.0000, -1.0000,\n",
      "          -1.0000, -1.0000, -1.0000,  0.0196,  0.9922,  0.9922,  0.8039,\n",
      "          -0.6392, -1.0000, -1.0000, -1.0000, -1.0000, -1.0000, -1.0000,\n",
      "          -1.0000, -1.0000, -1.0000, -1.0000, -1.0000, -1.0000, -1.0000],\n",
      "         [-1.0000, -1.0000, -1.0000, -1.0000, -1.0000, -1.0000, -1.0000,\n",
      "          -1.0000, -0.9529, -0.3961,  0.9137,  0.9922,  0.2706, -0.9686,\n",
      "          -1.0000, -1.0000, -1.0000, -1.0000, -1.0000, -1.0000, -1.0000,\n",
      "          -1.0000, -1.0000, -1.0000, -1.0000, -1.0000, -1.0000, -1.0000],\n",
      "         [-1.0000, -1.0000, -1.0000, -1.0000, -1.0000, -1.0000, -1.0000,\n",
      "          -1.0000, -0.1373,  0.9922,  0.7098,  0.9922, -0.0902, -1.0000,\n",
      "          -1.0000, -1.0000, -1.0000, -1.0000, -1.0000, -1.0000, -1.0000,\n",
      "          -1.0000, -1.0000, -1.0000, -1.0000, -1.0000, -1.0000, -1.0000],\n",
      "         [-1.0000, -1.0000, -1.0000, -1.0000, -1.0000, -1.0000, -1.0000,\n",
      "           0.0275,  0.9922,  0.2078, -0.7804,  0.6706, -0.3255, -1.0000,\n",
      "          -1.0000, -1.0000, -1.0000, -1.0000, -1.0000, -1.0000, -1.0000,\n",
      "          -1.0000, -1.0000, -1.0000, -1.0000, -1.0000, -1.0000, -1.0000],\n",
      "         [-1.0000, -1.0000, -1.0000, -1.0000, -1.0000, -1.0000, -0.4824,\n",
      "           0.6392,  0.2000, -0.8510, -0.8510,  0.8275, -0.5294, -1.0000,\n",
      "          -1.0000, -1.0000, -1.0000, -1.0000, -1.0000, -1.0000, -1.0000,\n",
      "          -1.0000, -1.0000, -1.0000, -1.0000, -1.0000, -1.0000, -1.0000],\n",
      "         [-1.0000, -1.0000, -1.0000, -1.0000, -1.0000, -1.0000,  0.1137,\n",
      "           0.9922,  0.2941, -1.0000, -0.8902,  0.6941,  0.3098, -1.0000,\n",
      "          -1.0000, -1.0000, -1.0000, -1.0000, -1.0000, -1.0000, -1.0000,\n",
      "          -1.0000, -1.0000, -1.0000, -1.0000, -1.0000, -1.0000, -1.0000],\n",
      "         [-1.0000, -1.0000, -1.0000, -1.0000, -1.0000, -1.0000, -0.2941,\n",
      "           0.9922,  0.3725, -1.0000, -0.8588,  0.7961, -0.2784, -1.0000,\n",
      "          -1.0000, -1.0000, -1.0000, -1.0000, -1.0000, -1.0000, -1.0000,\n",
      "          -1.0000, -1.0000, -1.0000, -1.0000, -1.0000, -1.0000, -1.0000],\n",
      "         [-1.0000, -1.0000, -1.0000, -1.0000, -1.0000, -1.0000, -0.7961,\n",
      "           0.7961,  0.9529,  0.3804,  0.7412,  0.9137, -0.6549, -1.0000,\n",
      "          -1.0000, -1.0000, -1.0000, -1.0000, -1.0000, -1.0000, -1.0000,\n",
      "          -1.0000, -1.0000, -1.0000, -1.0000, -1.0000, -1.0000, -1.0000],\n",
      "         [-1.0000, -1.0000, -1.0000, -1.0000, -1.0000, -1.0000, -1.0000,\n",
      "          -0.4275,  0.5137,  0.5451,  0.0510, -1.0000, -1.0000, -1.0000,\n",
      "          -1.0000, -1.0000, -1.0000, -1.0000, -1.0000, -1.0000, -1.0000,\n",
      "          -1.0000, -1.0000, -1.0000, -1.0000, -1.0000, -1.0000, -1.0000],\n",
      "         [-1.0000, -1.0000, -1.0000, -1.0000, -1.0000, -1.0000, -1.0000,\n",
      "          -1.0000, -1.0000, -1.0000, -1.0000, -1.0000, -1.0000, -1.0000,\n",
      "          -1.0000, -1.0000, -1.0000, -1.0000, -1.0000, -1.0000, -1.0000,\n",
      "          -1.0000, -1.0000, -1.0000, -1.0000, -1.0000, -1.0000, -1.0000],\n",
      "         [-1.0000, -1.0000, -1.0000, -1.0000, -1.0000, -1.0000, -1.0000,\n",
      "          -1.0000, -1.0000, -1.0000, -1.0000, -1.0000, -1.0000, -1.0000,\n",
      "          -1.0000, -1.0000, -1.0000, -1.0000, -1.0000, -1.0000, -1.0000,\n",
      "          -1.0000, -1.0000, -1.0000, -1.0000, -1.0000, -1.0000, -1.0000],\n",
      "         [-1.0000, -1.0000, -1.0000, -1.0000, -1.0000, -1.0000, -1.0000,\n",
      "          -1.0000, -1.0000, -1.0000, -1.0000, -1.0000, -1.0000, -1.0000,\n",
      "          -1.0000, -1.0000, -1.0000, -1.0000, -1.0000, -1.0000, -1.0000,\n",
      "          -1.0000, -1.0000, -1.0000, -1.0000, -1.0000, -1.0000, -1.0000]]])\n"
     ]
    }
   ],
   "source": [
    "# print(train_dataset[-1])\n",
    "image, label = train_dataset[-1]\n",
    "print(image.size())\n",
    "print(image)"
   ]
  },
  {
   "cell_type": "code",
   "execution_count": 18,
   "id": "e13e02be",
   "metadata": {},
   "outputs": [
    {
     "data": {
      "image/png": "[encoded data removed]",
      "text/plain": [
       "<Figure size 640x480 with 1 Axes>"
      ]
     },
     "metadata": {},
     "output_type": "display_data"
    }
   ],
   "source": [
    "import matplotlib.pyplot as plt\n",
    "import numpy as np\n",
    "\n",
    "# Create a sample grayscale image (replace with your own image data)\n",
    "image_array = np.random.randint(0, 256, (100, 100), dtype=np.uint8)\n",
    "\n",
    "# Display the image\n",
    "plt.imshow(image[0], cmap='gray')\n",
    "plt.title('Sample Grayscale Image')\n",
    "plt.axis('off')\n",
    "plt.show()"
   ]
  },
  {
   "cell_type": "code",
   "execution_count": 19,
   "id": "47b78e4b",
   "metadata": {},
   "outputs": [
    {
     "name": "stdout",
     "output_type": "stream",
     "text": [
      "tensor([[-0.1176,  0.2069, -0.8835, -0.9614, -0.7550, -1.3139, -0.4098, -0.1503,\n",
      "         -0.2160, -0.9375]], grad_fn=<AddmmBackward0>)\n"
     ]
    }
   ],
   "source": [
    "print(model(image))"
   ]
  },
  {
   "cell_type": "code",
   "execution_count": 29,
   "id": "25eac470",
   "metadata": {},
   "outputs": [
    {
     "name": "stdout",
     "output_type": "stream",
     "text": [
      "tensor([[ 2.0402, -2.7933,  0.2155, -1.4287, -2.4812, -0.1660, -2.4578, -0.4502,\n",
      "          7.5143,  2.6129]], grad_fn=<AddmmBackward0>)\n",
      "tensor(0.0133, grad_fn=<NllLossBackward0>)\n"
     ]
    }
   ],
   "source": [
    "print(model(image))\n",
    "print(criterion(model(image), torch.tensor([8])))"
   ]
  },
  {
   "cell_type": "code",
   "execution_count": 32,
   "id": "c996a56e",
   "metadata": {},
   "outputs": [
    {
     "name": "stdout",
     "output_type": "stream",
     "text": [
      "OrderedDict([('fc1.weight', Parameter containing:\n",
      "tensor([[ 0.0273,  0.0325,  0.0284,  ..., -0.0088,  0.0063, -0.0199],\n",
      "        [ 0.0342,  0.0311, -0.0322,  ...,  0.0343,  0.0289,  0.0321],\n",
      "        [ 0.0215, -0.0061, -0.0183,  ..., -0.0007, -0.0043, -0.0038],\n",
      "        ...,\n",
      "        [-0.0168, -0.0274,  0.0098,  ...,  0.0253, -0.0228, -0.0180],\n",
      "        [ 0.0132,  0.0141, -0.0024,  ...,  0.0012, -0.0105, -0.0242],\n",
      "        [-0.0362, -0.0324,  0.0033,  ..., -0.0140,  0.0177, -0.0208]],\n",
      "       requires_grad=True)), ('fc1.bias', Parameter containing:\n",
      "tensor([-1.7924e-02,  9.6788e-03,  1.4722e-02,  9.2687e-03,  2.9269e-02,\n",
      "        -1.4365e-02, -1.5164e-02,  7.5562e-04,  1.6438e-02, -3.3028e-02,\n",
      "         5.3357e-03, -2.5103e-02, -2.7300e-02,  1.4746e-02, -1.7760e-02,\n",
      "         2.9725e-02, -2.0102e-02, -2.4248e-02,  2.3908e-02, -2.9340e-02,\n",
      "        -2.8256e-02, -1.3958e-02, -3.1016e-02, -1.5227e-02, -2.9286e-02,\n",
      "        -8.6596e-03, -2.4534e-02,  9.8886e-03,  2.8703e-02,  3.4174e-02,\n",
      "         2.1902e-02, -7.6806e-03,  3.2865e-02,  2.6741e-02, -2.0063e-02,\n",
      "         1.5990e-02,  1.4251e-02, -5.2353e-03,  3.1858e-02, -2.1476e-02,\n",
      "        -1.1399e-02,  2.1490e-02,  2.0995e-02,  1.6634e-02,  4.8321e-03,\n",
      "        -1.6438e-03,  1.5656e-02, -2.3656e-03, -1.0747e-03, -3.3900e-02,\n",
      "         2.7864e-03, -2.5427e-02,  2.6258e-02, -2.7346e-03,  3.2199e-03,\n",
      "        -1.9455e-02,  8.6982e-03,  1.7339e-02,  3.2779e-02,  8.5121e-03,\n",
      "         2.1228e-02,  2.6411e-02, -1.6737e-02,  4.5339e-03, -2.0322e-02,\n",
      "        -2.6255e-02, -1.9086e-02, -3.4334e-02, -1.3328e-02, -3.1285e-02,\n",
      "        -1.1173e-02, -3.0389e-02,  5.8761e-03,  8.6206e-03, -2.0979e-02,\n",
      "         2.5285e-02, -1.4747e-02,  1.9949e-02,  3.4294e-02, -3.0520e-03,\n",
      "         1.2815e-02, -4.2108e-03, -1.4186e-03,  3.2404e-02,  9.5136e-03,\n",
      "         3.4503e-02,  2.6598e-03, -3.1832e-02,  2.1990e-02, -4.6196e-03,\n",
      "        -3.2880e-02, -2.4138e-03, -2.6631e-02, -2.6549e-02,  1.3005e-02,\n",
      "         2.5651e-02,  7.4428e-03, -9.4595e-03, -3.6778e-03,  4.7030e-03,\n",
      "        -2.8957e-02,  1.9677e-02,  1.7237e-02,  8.3555e-04, -1.0347e-02,\n",
      "        -3.0614e-05,  2.2323e-02, -3.4794e-02, -2.6854e-02, -1.3602e-02,\n",
      "         3.2422e-02,  1.0442e-02,  2.1181e-02, -1.7816e-02, -5.5378e-03,\n",
      "        -2.7625e-02,  6.0850e-03,  2.2494e-02,  4.4439e-03,  1.9776e-02,\n",
      "        -2.1285e-02, -2.1605e-02, -7.5090e-03, -1.6598e-02,  2.0081e-02,\n",
      "         2.6627e-02,  3.0444e-02, -3.2863e-02,  1.8828e-02, -3.3160e-02,\n",
      "         3.0205e-02, -2.0269e-03,  1.3057e-02, -1.4624e-03,  3.1090e-02,\n",
      "         2.2721e-02,  3.3624e-02,  2.6692e-02,  5.6358e-04,  2.4079e-02,\n",
      "         1.9282e-02,  2.0268e-02, -2.3528e-02, -1.6110e-02,  2.0506e-02,\n",
      "         2.2917e-03, -2.9487e-02,  1.5422e-02,  9.2303e-04,  2.3652e-02,\n",
      "        -9.0696e-03, -3.0922e-02, -1.4216e-02,  6.5516e-03,  3.3578e-04,\n",
      "        -2.1073e-02, -3.5543e-02,  3.5954e-02,  1.5774e-03, -2.1899e-02,\n",
      "         2.1517e-02, -2.8830e-02,  2.1268e-02,  1.7844e-02, -2.7120e-02,\n",
      "         3.2592e-02,  3.4362e-04,  2.1295e-03, -2.1632e-02,  1.4129e-02,\n",
      "         1.6302e-02, -1.6692e-02, -1.6965e-02,  3.3385e-02, -2.7913e-02,\n",
      "        -1.7476e-02,  5.9610e-03,  2.7200e-02, -1.9457e-02,  1.0134e-02,\n",
      "        -3.1791e-02, -2.0335e-02,  2.4791e-02, -2.3175e-03,  1.6697e-02,\n",
      "         1.7928e-03,  3.5517e-02, -2.7873e-02,  3.4417e-02, -1.0327e-02,\n",
      "         2.6093e-02, -2.6414e-02, -1.4863e-02,  6.7920e-03,  1.5978e-02,\n",
      "         6.7019e-03, -2.7111e-02, -1.1263e-02, -2.2486e-02,  5.2714e-05,\n",
      "        -1.3911e-02,  1.4970e-02,  3.1167e-02, -2.9278e-02, -2.4741e-02,\n",
      "        -3.3384e-02,  2.5553e-02, -4.4710e-03,  2.6890e-02,  3.0360e-02,\n",
      "         3.4130e-02,  3.7579e-03,  1.2685e-02, -1.0055e-02, -2.6144e-02,\n",
      "         1.3043e-02,  5.9599e-04,  1.2800e-02,  8.9953e-03, -1.4245e-02,\n",
      "         9.1544e-03,  1.7754e-02,  1.8471e-02,  3.3544e-02, -2.9898e-02,\n",
      "        -6.1605e-03,  1.0454e-02,  2.9962e-02,  2.7940e-02, -2.9279e-02,\n",
      "         3.3830e-02,  3.5412e-03, -1.7288e-02, -1.7572e-02,  1.9319e-02,\n",
      "        -2.8011e-02,  2.8822e-02,  8.8432e-03, -2.7187e-02, -3.5469e-02,\n",
      "        -1.5986e-02,  3.0073e-03, -3.6576e-02, -7.2842e-03, -2.2345e-02,\n",
      "         1.6814e-03, -5.1973e-03, -2.7648e-02,  1.5297e-02, -5.1792e-03,\n",
      "         2.4952e-02, -2.9534e-03,  1.8736e-02, -1.3886e-03, -5.9194e-04,\n",
      "         2.1426e-02, -1.4817e-02,  3.3269e-02, -2.3786e-02, -1.6012e-02,\n",
      "         3.3904e-02,  1.9066e-02, -1.4143e-02,  1.6012e-02,  7.0661e-03,\n",
      "         2.4769e-03, -1.7397e-03,  7.3907e-03, -3.5890e-03, -1.7497e-03,\n",
      "        -2.8859e-02,  1.8503e-02,  1.7805e-02, -6.4957e-03, -3.1110e-02,\n",
      "         5.7471e-03, -2.5662e-03, -7.2900e-03,  2.5941e-02, -8.5617e-03,\n",
      "        -1.4608e-02, -1.3594e-02,  3.4819e-03, -2.3315e-02, -1.2417e-02,\n",
      "         7.1420e-03, -1.0317e-03,  1.0016e-02, -1.4435e-03, -3.5771e-04,\n",
      "         1.9220e-02,  2.1094e-02, -2.2495e-02, -6.8574e-03,  7.4261e-03,\n",
      "         2.8158e-02, -2.6349e-02, -3.2479e-02, -2.7011e-02, -1.0132e-02],\n",
      "       requires_grad=True)), ('fc2.weight', Parameter containing:\n",
      "tensor([[-0.0434, -0.0083,  0.0758,  ...,  0.0732,  0.0243, -0.0147],\n",
      "        [ 0.0283, -0.0544,  0.0775,  ...,  0.0218,  0.0284, -0.0124],\n",
      "        [-0.0114, -0.0405, -0.0248,  ...,  0.0324,  0.0619, -0.0150],\n",
      "        ...,\n",
      "        [ 0.0302, -0.0370, -0.0087,  ...,  0.0296, -0.0024, -0.0659],\n",
      "        [-0.0089, -0.0635,  0.0455,  ...,  0.0216, -0.0078, -0.0150],\n",
      "        [-0.0541, -0.0002, -0.0150,  ..., -0.0048, -0.0728, -0.0480]],\n",
      "       requires_grad=True)), ('fc2.bias', Parameter containing:\n",
      "tensor([-0.0195, -0.0130, -0.0286,  0.0360, -0.0275, -0.0087,  0.0496, -0.0422,\n",
      "        -0.0163,  0.0095,  0.0152, -0.0523,  0.0140, -0.0255,  0.0010, -0.0300,\n",
      "         0.0112, -0.0447,  0.0499,  0.0059, -0.0335, -0.0509, -0.0498,  0.0432,\n",
      "         0.0511, -0.0374,  0.0470, -0.0013,  0.0388, -0.0066,  0.0010,  0.0023,\n",
      "        -0.0361,  0.0316,  0.0446, -0.0390, -0.0139, -0.0503,  0.0310, -0.0434,\n",
      "        -0.0572,  0.0409,  0.0588, -0.0546,  0.0008, -0.0347, -0.0299,  0.0522,\n",
      "         0.0136,  0.0254,  0.0427,  0.0053, -0.0444,  0.0243, -0.0273,  0.0498,\n",
      "        -0.0010,  0.0061,  0.0094,  0.0060, -0.0542,  0.0334,  0.0140,  0.0076,\n",
      "         0.0531, -0.0263,  0.0457,  0.0105, -0.0087, -0.0259, -0.0040, -0.0169,\n",
      "        -0.0145,  0.0571, -0.0350, -0.0522,  0.0249, -0.0330,  0.0138,  0.0050,\n",
      "         0.0383,  0.0124, -0.0150,  0.0409,  0.0457, -0.0342,  0.0409, -0.0482,\n",
      "         0.0539, -0.0074,  0.0021,  0.0489,  0.0133,  0.0468,  0.0440,  0.0489,\n",
      "        -0.0192,  0.0307, -0.0404, -0.0134], requires_grad=True)), ('fc3.weight', Parameter containing:\n",
      "tensor([[ 1.1353e-01,  1.6793e-01, -1.3959e-01,  1.3059e-01,  1.2640e-01,\n",
      "          1.6151e-01,  4.9007e-02, -4.9493e-02,  1.6824e-01, -4.2668e-02,\n",
      "          5.6818e-02,  1.6260e-02,  4.6761e-02, -1.9492e-02,  1.3145e-01,\n",
      "         -5.1983e-02,  1.2454e-01, -1.0255e-01, -2.1867e-01,  1.6745e-01,\n",
      "         -1.6803e-01,  1.3958e-02,  1.7437e-01, -1.5489e-01,  2.1997e-01,\n",
      "          7.6123e-02,  1.0740e-01, -8.1924e-02, -4.1946e-03, -1.2400e-01,\n",
      "          1.3673e-04,  5.4576e-02,  1.3193e-01, -1.7943e-01,  1.7001e-01,\n",
      "          3.4551e-02,  1.4084e-01, -9.2428e-02,  6.9403e-02,  2.3778e-03,\n",
      "          2.4621e-01, -7.1862e-03,  5.0960e-02, -2.1164e-01,  2.1404e-01,\n",
      "         -9.4143e-02, -1.1040e-02, -1.3150e-01,  1.9376e-01,  1.3162e-01,\n",
      "          1.9475e-01,  2.2018e-02, -9.5773e-03, -6.0983e-02,  8.9460e-02,\n",
      "         -1.1914e-01, -6.0562e-02, -1.1673e-01, -1.4397e-03, -5.5207e-02,\n",
      "         -1.1552e-01, -6.5948e-02,  6.2530e-02, -1.2943e-01, -7.8011e-02,\n",
      "         -9.2994e-02, -1.2673e-01,  1.3336e-02,  1.5201e-01, -1.2753e-01,\n",
      "          7.6375e-02,  6.8870e-02, -1.5583e-02, -4.6421e-03, -2.2097e-01,\n",
      "         -1.0932e-01, -4.8915e-02, -5.2136e-02,  9.3643e-02, -1.0261e-01,\n",
      "          5.6599e-02, -3.6915e-02, -8.0183e-02,  1.6284e-01, -1.7694e-01,\n",
      "          1.2273e-01,  1.9083e-01, -2.4340e-01,  4.8097e-02,  9.0301e-02,\n",
      "          1.1474e-01, -2.0106e-01, -1.4786e-01,  3.0954e-02, -9.2666e-02,\n",
      "          8.3471e-02,  1.6686e-01, -1.3580e-01, -7.9275e-02,  1.5820e-01],\n",
      "        [-1.6902e-01, -1.2248e-01,  8.5793e-02, -1.1212e-01, -1.6177e-02,\n",
      "          1.1999e-01, -1.6592e-02,  8.2456e-02,  6.8684e-02, -1.1724e-03,\n",
      "         -4.4170e-02,  3.0968e-02,  1.9045e-01, -1.1624e-01,  1.6393e-02,\n",
      "         -9.2633e-02,  7.5771e-02, -4.4492e-02,  1.0203e-01, -9.4698e-02,\n",
      "          1.4833e-01,  7.2721e-02, -9.4438e-02,  4.6469e-02, -9.7196e-02,\n",
      "         -2.6407e-01,  8.6793e-02,  1.3218e-01, -1.1292e-01,  1.1164e-01,\n",
      "          1.4259e-01, -4.2126e-02, -4.1681e-02,  1.7522e-01, -1.4530e-01,\n",
      "         -1.5511e-02, -6.7733e-02,  5.4988e-02, -1.2025e-01,  4.7629e-02,\n",
      "         -6.4802e-02,  1.5279e-01, -1.6483e-01, -3.2419e-02,  1.1898e-01,\n",
      "          1.2815e-01,  7.1633e-02,  1.7588e-01, -2.2099e-01, -4.8912e-03,\n",
      "         -1.6788e-01,  6.1629e-02,  2.2930e-01, -1.3104e-01,  5.1036e-02,\n",
      "          1.9638e-01, -2.8609e-01, -2.1225e-01,  1.1322e-02,  4.1632e-02,\n",
      "          6.9738e-02, -5.4465e-03,  1.0297e-01,  7.4850e-02,  1.6278e-01,\n",
      "          1.2831e-01, -2.3199e-01, -1.8806e-01, -1.1472e-01,  1.3230e-02,\n",
      "         -3.5452e-02, -1.9616e-01,  1.6241e-01, -2.8649e-02,  2.2502e-01,\n",
      "         -1.1889e-01,  6.7770e-02, -1.8388e-01, -1.0534e-01,  1.4170e-01,\n",
      "          3.0130e-02,  1.2267e-01,  1.3497e-01,  2.7651e-02, -2.4525e-01,\n",
      "         -4.5437e-02, -1.6548e-01, -1.1035e-01,  1.3552e-01, -1.9974e-01,\n",
      "         -7.9340e-02,  6.7977e-02,  1.5649e-01, -1.0139e-01, -1.2320e-01,\n",
      "         -5.8671e-02, -5.0193e-02,  1.6302e-01, -1.5848e-01,  1.5024e-01],\n",
      "        [-1.4822e-01, -1.2775e-01,  8.0851e-02, -9.7224e-02, -1.2421e-02,\n",
      "         -1.9513e-01,  1.5985e-01,  2.5810e-02,  8.6973e-02, -3.7063e-02,\n",
      "         -2.5359e-01, -9.9853e-02,  1.5381e-02,  1.2672e-02,  1.1065e-01,\n",
      "          8.0403e-02,  4.9615e-02,  1.5052e-01, -9.7401e-02,  9.6516e-02,\n",
      "          1.8703e-01, -2.0114e-01,  2.6967e-01,  1.1459e-01,  1.7596e-01,\n",
      "          1.2177e-01,  2.0357e-02,  5.0501e-02, -6.6949e-02,  1.7400e-01,\n",
      "         -7.8074e-02,  7.9186e-02, -1.3275e-01,  5.8278e-02,  5.6528e-02,\n",
      "          2.0927e-01,  1.2212e-01, -3.3179e-02, -5.4572e-04,  7.4412e-02,\n",
      "         -1.2149e-01,  8.8987e-02, -1.5893e-01,  1.3157e-01, -2.2386e-01,\n",
      "          8.0709e-02, -8.7182e-02,  1.1154e-02, -1.5301e-01,  6.9631e-02,\n",
      "         -3.6304e-02,  1.7514e-01,  5.5854e-02,  3.2472e-02, -1.2932e-01,\n",
      "         -9.7302e-02,  2.1058e-01, -3.7467e-02,  8.8505e-03,  1.7737e-01,\n",
      "          1.9357e-02,  2.1426e-01,  6.5691e-02, -7.8656e-02, -1.8349e-01,\n",
      "         -1.9327e-01,  7.2880e-02,  1.3050e-02,  1.3660e-01, -1.6456e-01,\n",
      "          1.8654e-01,  1.5748e-01, -2.4406e-01,  3.0988e-02,  1.4794e-01,\n",
      "         -1.3043e-01,  1.4122e-02,  2.2313e-02, -1.4152e-01, -1.5083e-01,\n",
      "         -1.3755e-01,  1.2765e-01,  3.8956e-02, -5.4377e-02, -6.2472e-02,\n",
      "         -1.3653e-02, -2.2271e-01,  2.1768e-01, -1.0384e-02,  1.0357e-01,\n",
      "          7.5104e-02, -1.1715e-01, -2.5272e-01, -1.4451e-02,  4.7766e-02,\n",
      "         -8.5951e-02,  6.4725e-02, -6.7074e-02,  9.8195e-02, -8.9929e-02],\n",
      "        [ 1.4321e-01, -2.6978e-02,  8.6765e-02, -5.2994e-02, -1.3685e-01,\n",
      "          8.6064e-02,  1.8062e-01, -1.2479e-01, -1.4736e-01, -1.0445e-01,\n",
      "         -7.7494e-02,  1.4114e-01, -2.2983e-01, -1.0710e-01, -2.9632e-02,\n",
      "          1.4072e-01, -1.1441e-01,  5.9524e-02,  5.1884e-02, -4.6583e-02,\n",
      "         -9.4419e-03,  9.7351e-02, -1.1303e-01, -1.2778e-01,  1.0459e-01,\n",
      "          6.2416e-02,  2.9538e-02,  9.9011e-02,  2.9179e-01, -3.2126e-02,\n",
      "          6.0862e-02,  3.0411e-02, -2.7582e-01,  1.8216e-01,  1.2613e-01,\n",
      "          9.3172e-02, -5.1865e-02,  1.1991e-02,  6.9278e-02,  1.0792e-01,\n",
      "         -7.7551e-02, -1.5787e-01,  2.6550e-02,  3.6966e-02, -1.9165e-01,\n",
      "          1.6294e-01,  5.1906e-02, -1.5731e-01, -1.5572e-01,  2.7466e-02,\n",
      "         -5.4199e-02, -4.2973e-04, -6.1017e-03, -2.0774e-01, -1.3619e-02,\n",
      "          1.0955e-01,  1.5810e-01, -2.9864e-02, -1.5547e-02, -2.0328e-01,\n",
      "         -2.5481e-02, -1.5031e-01, -9.8788e-02, -1.7867e-01, -2.7208e-02,\n",
      "         -2.1980e-01,  9.5866e-02, -1.4348e-01,  2.2879e-01,  9.0649e-02,\n",
      "         -2.3798e-01, -1.6483e-02,  7.1375e-02, -1.5845e-01, -5.5705e-03,\n",
      "         -1.0637e-01,  2.1052e-01, -2.2395e-02,  8.0715e-02,  1.5356e-01,\n",
      "          7.9506e-03, -1.3618e-01, -1.1808e-01, -8.6224e-02,  1.0142e-01,\n",
      "         -1.9481e-01, -2.0566e-01,  1.7714e-01,  4.1763e-02,  1.7391e-01,\n",
      "         -1.1916e-01,  3.2767e-03, -1.9693e-01,  5.7092e-02, -1.4558e-01,\n",
      "          1.0542e-01, -1.9375e-01, -7.8908e-02, -9.2885e-02,  1.1509e-01],\n",
      "        [-1.7093e-01, -1.7458e-01, -1.2463e-01,  5.6051e-02,  1.7104e-01,\n",
      "          2.3509e-02,  3.2279e-02, -8.4886e-02, -1.0009e-01,  2.4945e-01,\n",
      "          1.4511e-01, -3.7801e-02, -1.5413e-01,  2.5022e-01, -9.8296e-02,\n",
      "          3.3607e-03, -4.5875e-02,  3.5337e-02, -1.1777e-01, -1.5825e-01,\n",
      "         -8.7571e-02,  7.3510e-02, -2.5904e-02,  7.5525e-02, -1.0894e-01,\n",
      "         -5.9095e-02, -2.2597e-01, -2.2435e-02, -1.4935e-01,  1.3977e-01,\n",
      "         -2.1226e-01,  2.3106e-01,  2.1347e-02, -1.2231e-02, -1.1122e-01,\n",
      "         -2.1593e-01,  1.8069e-01,  1.8577e-01, -6.1127e-02, -2.0751e-01,\n",
      "         -1.5742e-01, -8.9579e-02,  1.5573e-02,  9.5436e-03,  4.6426e-02,\n",
      "         -1.0873e-01, -1.1577e-01,  7.2214e-02,  1.7398e-01, -4.6879e-02,\n",
      "         -1.1635e-01, -5.8268e-02,  1.9083e-02, -2.1763e-02,  1.1636e-01,\n",
      "         -1.6899e-01, -2.5610e-02,  1.3946e-01, -1.8742e-01, -4.5879e-02,\n",
      "         -4.0566e-02,  2.6943e-02,  9.4561e-02,  1.6285e-01, -1.7169e-01,\n",
      "         -6.8414e-02,  4.4392e-02,  7.1052e-04, -1.2585e-01,  9.0101e-02,\n",
      "          8.6392e-02,  5.8367e-02,  1.7385e-01, -1.2296e-01, -1.7451e-01,\n",
      "          9.3684e-02, -1.3281e-01, -9.2868e-02,  1.1648e-01,  1.7607e-01,\n",
      "         -1.6242e-01, -1.1653e-01, -3.2703e-02, -2.4174e-01, -1.3860e-01,\n",
      "          2.3678e-01,  1.3566e-01,  1.2764e-01, -5.7066e-02, -7.8099e-02,\n",
      "          1.3103e-01,  6.3353e-02, -7.6771e-03, -3.1684e-01,  1.5115e-01,\n",
      "         -1.9272e-01, -1.5935e-01, -6.1623e-02,  2.0578e-01, -5.8193e-03],\n",
      "        [ 9.2165e-02,  1.5408e-01,  6.0594e-02,  1.3110e-01,  1.7066e-03,\n",
      "          1.3490e-01,  1.6654e-01, -2.5709e-01, -1.3499e-01,  8.5496e-02,\n",
      "         -9.0320e-02,  8.0444e-02,  2.0979e-01, -1.6505e-01, -1.1960e-01,\n",
      "         -1.3951e-01, -1.0670e-01,  1.3661e-01,  3.2086e-01, -2.3292e-01,\n",
      "         -9.2979e-02,  1.3570e-01, -2.0988e-01, -3.1265e-01, -1.7943e-01,\n",
      "         -1.4331e-01,  3.1924e-02,  4.3089e-02,  1.2118e-01, -2.8727e-01,\n",
      "          1.2633e-01, -1.2821e-01,  1.2436e-01, -4.1149e-02, -4.2972e-02,\n",
      "         -8.7375e-02, -9.3226e-02,  4.9548e-02,  1.8789e-01, -6.0583e-03,\n",
      "         -1.0198e-01,  1.6309e-01,  1.5600e-01,  1.3992e-01, -3.1468e-02,\n",
      "         -1.3356e-01,  1.4388e-01, -6.2614e-02,  4.4235e-02,  1.0710e-01,\n",
      "         -7.8698e-02, -1.2908e-01, -6.6679e-02,  1.3306e-01, -6.4167e-02,\n",
      "          2.0549e-01, -1.9355e-02,  2.1589e-02, -5.0932e-02, -1.8273e-01,\n",
      "         -1.4371e-01, -1.5596e-02,  2.7159e-03,  3.4697e-02, -1.9220e-02,\n",
      "          2.5734e-01,  5.4200e-02,  1.6873e-01, -1.6567e-01,  7.8472e-03,\n",
      "          1.7690e-01,  2.1889e-01, -9.8430e-02,  2.8494e-01, -4.8100e-02,\n",
      "         -1.7846e-01,  9.8081e-02,  6.7783e-03, -8.3904e-02, -1.6962e-01,\n",
      "          6.5521e-02,  1.0024e-02, -8.0644e-02,  2.6701e-01,  2.1432e-01,\n",
      "         -9.4402e-02, -5.1293e-04,  1.6736e-01, -8.7112e-02,  6.9320e-02,\n",
      "         -1.8180e-01, -2.2428e-02,  1.7103e-01, -5.8587e-02, -7.1737e-02,\n",
      "          1.8695e-01,  1.5182e-02, -1.8863e-01, -7.5563e-02,  1.1774e-02],\n",
      "        [ 1.1912e-01, -3.2374e-02,  1.8518e-01, -2.3624e-01, -1.5840e-01,\n",
      "          8.4325e-03, -1.4800e-01,  6.6640e-02,  1.6266e-01,  1.6201e-01,\n",
      "          1.4906e-01,  1.8518e-02,  2.4737e-02,  1.2736e-01,  2.9864e-01,\n",
      "         -1.0188e-01,  2.6719e-01, -1.4971e-01,  2.0587e-01, -1.2544e-01,\n",
      "         -1.4537e-01, -2.4228e-01, -6.7945e-03, -5.3967e-02, -6.6011e-02,\n",
      "         -7.8772e-02, -1.7334e-01, -9.0679e-02, -9.1639e-02, -9.1386e-02,\n",
      "         -6.5486e-02,  1.1128e-01,  5.1764e-02, -2.8196e-01,  1.4383e-01,\n",
      "         -1.4374e-01,  8.3020e-02, -1.9230e-01,  1.1792e-01, -1.2290e-01,\n",
      "          5.1489e-02, -1.0800e-02,  1.0350e-01, -7.2390e-02,  1.2628e-01,\n",
      "          7.6507e-02, -1.1837e-01,  1.3725e-01, -1.6359e-01,  1.8451e-01,\n",
      "         -7.1565e-02,  1.0327e-01,  1.1699e-01,  8.6437e-02, -6.5753e-03,\n",
      "          1.2097e-01, -8.0138e-03, -1.0166e-01,  2.1375e-01,  1.7156e-01,\n",
      "          1.1641e-01, -5.8181e-02,  8.6206e-02,  1.4906e-01, -6.4779e-02,\n",
      "          1.8564e-01,  1.1931e-01,  5.3186e-02, -1.7852e-01, -5.2391e-02,\n",
      "          6.4079e-02,  1.6644e-02,  4.5653e-02,  7.1462e-02,  5.0170e-02,\n",
      "          8.5831e-02, -2.5104e-01, -1.2582e-01, -1.6254e-01, -1.3694e-01,\n",
      "          1.8975e-02, -1.9706e-01,  1.1120e-01, -3.7171e-02,  9.6168e-02,\n",
      "         -8.1169e-02,  2.0657e-01, -2.9540e-03,  2.4008e-03, -1.0613e-01,\n",
      "          2.1032e-01,  6.0345e-02, -5.8400e-03, -5.3819e-02,  6.2946e-02,\n",
      "          1.4368e-01, -1.1996e-02, -1.3795e-01,  2.2077e-01, -1.8975e-02],\n",
      "        [ 8.6622e-02, -8.4196e-02, -2.9072e-02, -2.4641e-02,  3.8655e-02,\n",
      "         -8.2024e-02, -1.6184e-01,  1.0559e-01,  7.2703e-02,  5.5353e-02,\n",
      "          1.7888e-01, -2.0842e-01, -4.0564e-02,  4.3727e-02, -1.8435e-02,\n",
      "          2.4014e-01, -1.5475e-02, -3.2774e-02, -1.2393e-01,  1.2087e-01,\n",
      "         -4.1045e-02,  4.2053e-04, -9.5103e-02, -9.8142e-02, -1.1761e-01,\n",
      "          6.0872e-02,  2.2277e-02, -1.1427e-01, -2.5687e-01,  1.2971e-01,\n",
      "          2.4479e-01, -1.7274e-01, -7.7703e-02, -5.9729e-03, -9.6468e-02,\n",
      "          1.2661e-01, -1.8355e-01, -7.0952e-02,  1.6433e-01,  6.7748e-02,\n",
      "          2.3156e-01, -1.3346e-01, -7.6852e-02, -8.6152e-02,  1.5249e-01,\n",
      "          8.4213e-03,  7.7125e-02,  2.8140e-01,  5.7225e-02, -8.2961e-02,\n",
      "         -7.5295e-03,  7.2501e-02, -5.2306e-02,  1.4668e-01,  4.4329e-02,\n",
      "         -1.7463e-01,  8.2525e-02,  2.0252e-01, -1.2220e-01, -2.7022e-02,\n",
      "          2.3238e-01,  2.0066e-01, -2.4424e-01, -1.3262e-01, -2.2037e-02,\n",
      "          3.0418e-02,  4.9064e-02, -2.1042e-02, -9.6618e-03,  1.8773e-01,\n",
      "         -2.1028e-01, -1.3219e-01, -8.9702e-02,  4.7444e-02, -9.8107e-03,\n",
      "         -1.5459e-01,  2.5739e-01, -1.6748e-01,  1.3849e-01,  1.6569e-01,\n",
      "         -2.9481e-02,  1.6193e-02, -1.4061e-01, -2.7670e-01, -1.1758e-01,\n",
      "          2.5564e-02, -1.4510e-01, -1.9416e-01, -9.8573e-02,  7.3674e-02,\n",
      "         -1.9910e-01,  1.4808e-01,  1.2223e-01,  5.3474e-02, -2.2266e-01,\n",
      "          5.5789e-02,  7.0871e-02,  7.8355e-03, -7.5764e-02, -2.5120e-01],\n",
      "        [ 3.6965e-02,  6.5522e-02, -1.4900e-01, -1.1135e-01,  6.0939e-03,\n",
      "         -2.4061e-02, -7.4041e-02,  4.7050e-02, -3.1741e-02,  2.6792e-02,\n",
      "         -1.8669e-02,  2.6116e-01,  3.9604e-02, -1.6752e-01, -1.1155e-01,\n",
      "          8.9863e-03,  1.7727e-01,  2.9013e-02,  9.0636e-02, -1.5449e-01,\n",
      "          1.9340e-01,  1.3723e-01, -2.2086e-01,  1.2737e-01, -2.4669e-01,\n",
      "          3.0565e-01,  7.0594e-02,  2.5922e-01,  4.3410e-02, -4.2658e-02,\n",
      "         -7.6769e-04,  2.1443e-01,  1.1253e-01, -7.6044e-02,  1.0244e-02,\n",
      "          9.2476e-03, -8.1205e-02,  9.1225e-02, -1.8311e-01,  1.8072e-01,\n",
      "          4.9711e-04, -1.5036e-01, -7.1611e-02,  1.7762e-02,  2.9183e-02,\n",
      "          8.4965e-02,  2.6775e-02, -1.6769e-01, -2.3837e-02, -1.4841e-01,\n",
      "          4.5147e-02, -7.1331e-02, -5.5086e-02,  7.5241e-02,  6.0937e-02,\n",
      "         -1.6198e-01, -3.4708e-02,  1.2149e-01, -4.0755e-03,  1.3269e-01,\n",
      "         -1.4325e-01, -1.9630e-01,  6.5945e-02, -6.1345e-02,  1.2990e-01,\n",
      "          8.4718e-02,  1.8714e-01,  1.4312e-01, -1.5681e-01, -1.4076e-01,\n",
      "          6.3961e-02,  1.2389e-01, -2.0177e-03, -1.6271e-01, -4.1566e-02,\n",
      "          2.4750e-01,  5.8192e-02,  4.4919e-02,  8.0497e-02, -2.9193e-01,\n",
      "          1.8437e-02,  5.2028e-02,  1.6312e-01,  2.5402e-01,  1.4532e-01,\n",
      "          5.0826e-02, -1.6553e-02,  1.4236e-02,  1.2539e-01,  2.8472e-01,\n",
      "          1.4688e-01,  1.7757e-01, -1.1529e-01,  2.7684e-01, -3.4441e-02,\n",
      "         -1.8857e-01, -1.0649e-01, -9.1793e-02, -1.5970e-01, -1.0651e-02],\n",
      "        [ 4.1812e-02,  1.3763e-01, -4.2861e-03,  2.0129e-01,  1.4646e-01,\n",
      "         -1.2820e-01, -8.0128e-02,  3.6466e-02,  8.1407e-02, -2.4364e-01,\n",
      "         -8.6825e-02,  3.5101e-02, -9.7531e-02,  2.1617e-01, -1.2695e-01,\n",
      "          1.3687e-01, -1.5449e-01, -7.9206e-02, -5.9733e-02,  1.2997e-01,\n",
      "          1.5073e-01, -2.2965e-02, -5.3318e-02,  1.4860e-01, -1.0758e-01,\n",
      "         -1.2976e-01,  2.7920e-01, -1.4492e-01,  9.0243e-02,  1.5944e-01,\n",
      "          3.6673e-02,  4.0329e-02,  1.1007e-02,  9.3020e-02, -4.8110e-02,\n",
      "         -3.4182e-01,  1.0492e-01,  1.5412e-01, -1.2687e-01, -1.5217e-01,\n",
      "         -3.5652e-02, -6.9720e-02,  6.8412e-02, -1.1872e-01,  3.0039e-02,\n",
      "         -2.3070e-01, -7.8011e-02, -7.7011e-02,  1.3182e-01,  6.7473e-03,\n",
      "          1.4649e-01,  3.7260e-03, -1.7193e-01,  6.6357e-02, -2.4170e-01,\n",
      "         -9.2834e-02, -2.5244e-02,  1.0755e-01, -1.0982e-01, -2.1417e-02,\n",
      "          2.2800e-02, -7.5235e-02, -1.5062e-01,  2.1370e-01,  5.6262e-02,\n",
      "         -1.3986e-01, -4.6401e-02,  1.3864e-01,  1.5370e-01,  1.3015e-01,\n",
      "         -3.5897e-03,  4.9356e-02,  1.4367e-01, -1.8416e-01, -2.1368e-01,\n",
      "          1.9421e-01, -6.8299e-02,  7.4090e-02,  1.8434e-01,  1.5201e-01,\n",
      "          1.2275e-01, -9.7588e-03, -1.8492e-01, -1.8306e-01,  1.4246e-01,\n",
      "          4.6629e-02,  2.5993e-01,  6.6173e-02, -1.2339e-02, -3.1944e-02,\n",
      "          9.1109e-02,  3.8372e-02,  1.6632e-01,  7.5315e-02,  2.4668e-01,\n",
      "         -1.4181e-01, -1.5495e-01,  1.9875e-01, -2.1936e-01,  1.0834e-01]],\n",
      "       requires_grad=True)), ('fc3.bias', Parameter containing:\n",
      "tensor([-0.0940, -0.0446,  0.0746,  0.0082, -0.0195, -0.0500, -0.0296, -0.0826,\n",
      "        -0.0975,  0.0166], requires_grad=True))])\n"
     ]
    }
   ],
   "source": [
    "weight_dict = OrderedDict(model.named_parameters())\n",
    "# weightFunction = weight_dict['fc1.weight'].T\n",
    "# print(\"Final weight function: \\n\", weightFunction)\n",
    "print(weight_dict)"
   ]
  }
 ],
 "metadata": {
  "kernelspec": {
   "display_name": "Python 3 (ipykernel)",
   "language": "python",
   "name": "python3"
  },
  "language_info": {
   "codemirror_mode": {
    "name": "ipython",
    "version": 3
   },
   "file_extension": ".py",
   "mimetype": "text/x-python",
   "name": "python",
   "nbconvert_exporter": "python",
   "pygments_lexer": "ipython3",
   "version": "3.9.13"
  }
 },
 "nbformat": 4,
 "nbformat_minor": 5
}
