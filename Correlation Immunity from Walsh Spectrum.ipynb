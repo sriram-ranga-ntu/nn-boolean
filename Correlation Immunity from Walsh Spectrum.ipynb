{
 "cells": [
  {
   "cell_type": "code",
   "execution_count": 1,
   "id": "00a6f24a",
   "metadata": {},
   "outputs": [],
   "source": [
    "import torch\n",
    "import torch.nn as nn\n",
    "import torch.nn.functional as F\n",
    "import torch.optim as optim\n",
    "import numpy as np\n",
    "import random\n",
    "from collections import OrderedDict\n",
    "import math"
   ]
  },
  {
   "cell_type": "code",
   "execution_count": 2,
   "id": "5442df4d",
   "metadata": {},
   "outputs": [],
   "source": [
    "#Hadamard matrices\n",
    "\n",
    "H = {}\n",
    "H[4] = torch.tensor([[1.0, 1.0, 1.0, 1.0], [1.0, -1.0, 1.0, -1.0], [1.0, 1.0, -1.0, -1.0], [1.0, -1.0, -1.0, 1.0]])\n",
    "H[8] = torch.tensor([[1.0, 1.0, 1.0, 1.0, 1.0, 1.0, 1.0, 1.0],\n",
    "                            [1.0, -1.0, 1.0, -1.0, 1.0, -1.0, 1.0, -1.0],\n",
    "                            [1.0, 1.0, -1.0, -1.0, 1.0, 1.0, -1.0, -1.0],\n",
    "                            [1.0, -1.0, -1.0, 1.0, 1.0, -1.0, -1.0, 1.0],\n",
    "                            [1.0, 1.0, 1.0, 1.0, -1.0, -1.0, -1.0, -1.0],\n",
    "                            [1.0, -1.0, 1.0, -1.0, -1.0, 1.0, -1.0, 1.0],\n",
    "                            [1.0, 1.0, -1.0, -1.0, -1.0, -1.0, 1.0, 1.0],\n",
    "                            [1.0, -1.0, -1.0, 1.0, -1.0, 1.0, 1.0, -1.0]])\n",
    "\n",
    "\n",
    "f = open(\"had64.txt\")\n",
    "H64 = []\n",
    "for i in range(64):\n",
    "    H64.append([1.0 if i=='+' else -1.0 for i in list(f.readline())[:-1]])\n",
    "    \n",
    "H[64] = H64"
   ]
  },
  {
   "cell_type": "code",
   "execution_count": 6,
   "id": "980f8767",
   "metadata": {},
   "outputs": [
    {
     "name": "stdout",
     "output_type": "stream",
     "text": [
      "Data generated.\n"
     ]
    }
   ],
   "source": [
    "#Generating boolean functions and from them, their walsh spectra to feed as inputs to the neural network\n",
    "\n",
    "#k = number of variables in the boolean functions, n = number of inputs to train the model on\n",
    "def generate_input_data(k, n, scheme='regular'):\n",
    "    two_pow_k, data = pow(2, k), []\n",
    "    if(scheme=='regular'):\n",
    "        if(n<two_pow_k):\n",
    "            print(\"Requested number of inputs less than 2^k. Please request a higher number\")\n",
    "            return data\n",
    "        while(True):\n",
    "            if(two_pow_k<20):\n",
    "                perm = torch.randperm(pow(2, two_pow_k))\n",
    "                data = [[0.0]*(two_pow_k-len(bin(num)[2:]))+[float(i) for i in bin(num)[2:]] for num in perm[:n]]\n",
    "            else:\n",
    "                data = [[0.0 if random.random()>0.5 else 1.0 for i in range(two_pow_k)] for i in range(n)]\n",
    "            rank = np.linalg.matrix_rank(data)\n",
    "            if(rank<two_pow_k):\n",
    "                print(\"Rank (\", rank, \") not large enough, generating data again\")\n",
    "            else:\n",
    "                data = torch.matmul(torch.tensor(data), H[two_pow_k])\n",
    "                print(\"Data generated.\")\n",
    "                break\n",
    "    elif(scheme=='one-hot'):\n",
    "        data = [[0.0]*i + [1.0] + [0.0]*(two_pow_k-i-1) for i in range(two_pow_k)]\n",
    "        data = torch.matmul(torch.tensor(data), H[two_pow_k])\n",
    "        print(\"Data generated\")\n",
    "    return data\n",
    "\n",
    "k, n = 3, pow(2, pow(2, k))\n",
    "walsh_spectra = generate_input_data(k, n)"
   ]
  },
  {
   "cell_type": "code",
   "execution_count": 18,
   "id": "87ff8b7b",
   "metadata": {},
   "outputs": [
    {
     "name": "stdout",
     "output_type": "stream",
     "text": [
      "[[0, 0, 0, 0], [0, 0, 0, 0], [1, 0, 0, 0], [0, 0, 0, 0], [1, 0, 0, 0], [0, 0, 0, 0], [1, 0, 0, 0], [1, 0, 0, 0], [0, 0, 0, 0], [0, 1, 0, 0], [1, 0, 0, 0], [1, 0, 0, 0], [0, 0, 0, 0], [0, 0, 0, 0], [0, 0, 0, 0], [1, 0, 0, 0], [0, 0, 0, 0], [0, 0, 0, 0], [0, 0, 0, 0], [1, 0, 0, 0], [0, 0, 0, 0], [0, 0, 0, 0], [0, 0, 0, 0], [0, 0, 0, 0], [0, 0, 0, 0], [1, 0, 0, 0], [1, 0, 0, 0], [0, 0, 0, 0], [0, 0, 0, 0], [1, 1, 0, 0], [1, 0, 0, 0], [1, 0, 0, 0], [0, 0, 0, 0], [0, 0, 0, 0], [0, 0, 0, 0], [0, 0, 0, 0], [0, 0, 0, 0], [0, 0, 0, 0], [0, 0, 0, 0], [0, 0, 0, 0], [0, 0, 0, 0], [0, 0, 0, 0], [0, 0, 0, 0], [0, 0, 0, 0], [0, 0, 0, 0], [0, 0, 0, 0], [0, 0, 0, 0], [0, 0, 0, 0], [1, 0, 0, 0], [0, 0, 0, 0], [1, 1, 0, 0], [0, 0, 0, 0], [0, 0, 0, 0], [0, 0, 0, 0], [0, 0, 0, 0], [0, 0, 0, 0], [1, 0, 0, 0], [0, 0, 0, 0], [0, 0, 0, 0], [1, 0, 0, 0], [0, 0, 0, 0], [0, 0, 0, 0], [0, 0, 0, 0], [0, 1, 0, 0], [0, 1, 1, 1], [0, 0, 0, 0], [0, 0, 0, 0], [0, 0, 0, 0], [1, 0, 0, 0], [0, 0, 0, 0], [0, 0, 0, 0], [0, 0, 0, 0], [0, 0, 0, 0], [0, 0, 0, 0], [1, 0, 0, 0], [0, 0, 0, 0], [0, 0, 0, 0], [0, 0, 0, 0], [0, 0, 0, 0], [0, 0, 0, 0], [1, 0, 0, 0], [0, 0, 0, 0], [0, 0, 0, 0], [1, 0, 0, 0], [0, 0, 0, 0], [1, 0, 0, 0], [0, 0, 0, 0], [0, 0, 0, 0], [0, 0, 0, 0], [0, 0, 0, 0], [0, 0, 0, 0], [0, 0, 0, 0], [0, 0, 0, 0], [0, 0, 0, 0], [0, 0, 0, 0], [0, 0, 0, 0], [0, 0, 0, 0], [1, 0, 0, 0], [1, 0, 0, 0], [1, 0, 0, 0], [0, 0, 0, 0], [0, 0, 0, 0], [0, 0, 0, 0], [0, 0, 0, 0], [0, 0, 0, 0], [0, 0, 0, 0], [0, 0, 0, 0], [0, 0, 0, 0], [1, 0, 0, 0], [0, 0, 0, 0], [0, 0, 0, 0], [0, 0, 0, 0], [0, 0, 0, 0], [1, 0, 0, 0], [0, 0, 0, 0], [0, 0, 0, 0], [0, 0, 0, 0], [0, 0, 0, 0], [0, 0, 0, 0], [0, 1, 0, 0], [0, 0, 0, 0], [1, 0, 0, 0], [0, 0, 0, 0], [0, 0, 0, 0], [0, 0, 0, 0], [0, 0, 0, 0], [0, 0, 0, 0], [0, 1, 0, 0], [0, 0, 0, 0], [0, 0, 0, 0], [0, 0, 0, 0], [1, 0, 0, 0], [1, 0, 0, 0], [0, 1, 0, 0], [0, 0, 0, 0], [1, 0, 0, 0], [0, 0, 0, 0], [0, 0, 0, 0], [1, 0, 0, 0], [0, 0, 0, 0], [0, 0, 0, 0], [0, 0, 0, 0], [0, 0, 0, 0], [1, 0, 0, 0], [0, 0, 0, 0], [0, 0, 0, 0], [0, 0, 0, 0], [1, 1, 0, 0], [1, 0, 0, 0], [1, 0, 0, 0], [0, 0, 0, 0], [0, 0, 0, 0], [1, 0, 0, 0], [0, 0, 0, 0], [0, 0, 0, 0], [0, 0, 0, 0], [0, 0, 0, 0], [0, 0, 0, 0], [1, 0, 0, 0], [1, 0, 0, 0], [0, 0, 0, 0], [1, 0, 0, 0], [0, 0, 0, 0], [0, 0, 0, 0], [0, 0, 0, 0], [1, 0, 0, 0], [0, 0, 0, 0], [0, 0, 0, 0], [0, 1, 0, 0], [0, 0, 0, 0], [0, 0, 0, 0], [0, 0, 0, 0], [1, 0, 0, 0], [1, 0, 0, 0], [1, 0, 0, 0], [1, 1, 0, 0], [0, 0, 0, 0], [0, 0, 0, 0], [0, 0, 0, 0], [0, 0, 0, 0], [0, 0, 0, 0], [0, 0, 0, 0], [0, 0, 0, 0], [1, 0, 0, 0], [1, 0, 0, 0], [0, 0, 0, 0], [1, 0, 0, 0], [0, 0, 0, 0], [0, 0, 0, 0], [1, 0, 0, 0], [0, 0, 0, 0], [0, 0, 0, 0], [0, 0, 0, 0], [0, 0, 0, 0], [0, 0, 0, 0], [1, 0, 0, 0], [0, 0, 0, 0], [0, 0, 0, 0], [0, 0, 0, 0], [0, 0, 0, 0], [0, 0, 0, 0], [0, 1, 1, 1], [1, 0, 0, 0], [0, 0, 0, 0], [0, 0, 0, 0], [0, 0, 0, 0], [0, 0, 0, 0], [0, 0, 0, 0], [1, 0, 0, 0], [1, 0, 0, 0], [0, 0, 0, 0], [1, 0, 0, 0], [0, 1, 0, 0], [0, 0, 0, 0], [1, 0, 0, 0], [0, 0, 0, 0], [0, 0, 0, 0], [1, 0, 0, 0], [1, 0, 0, 0], [1, 0, 0, 0], [0, 0, 0, 0], [0, 0, 0, 0], [0, 0, 0, 0], [0, 0, 0, 0], [1, 0, 0, 0], [0, 0, 0, 0], [1, 0, 0, 0], [0, 0, 0, 0], [0, 0, 0, 0], [1, 0, 0, 0], [1, 1, 1, 0], [0, 0, 0, 0], [0, 0, 0, 0], [1, 0, 0, 0], [0, 0, 0, 0], [1, 0, 0, 0], [1, 0, 0, 0], [1, 1, 0, 0], [0, 0, 0, 0], [0, 0, 0, 0], [1, 1, 1, 0], [0, 0, 0, 0], [0, 0, 0, 0], [0, 0, 0, 0], [1, 0, 0, 0], [1, 0, 0, 0], [0, 0, 0, 0], [0, 0, 0, 0], [0, 0, 0, 0], [0, 0, 0, 0], [0, 1, 0, 0], [1, 1, 0, 0], [0, 0, 0, 0], [0, 0, 0, 0], [0, 0, 0, 0], [0, 0, 0, 0]]\n"
     ]
    }
   ],
   "source": [
    "#Calculating the correlation immunity of functions given their walsh spectra\n",
    "\n",
    "def correlation_immunity(walsh_spectra):\n",
    "    ci = []\n",
    "    n, two_pow_k = walsh_spectra.size()[0], walsh_spectra.size()[1]\n",
    "    k = int(math.log2(two_pow_k))\n",
    "    no_ones = []\n",
    "    for i in range(two_pow_k):\n",
    "        no_ones.append(sum([int(dig) for dig in bin(i)[2:]]))\n",
    "    for spectrum in walsh_spectra:\n",
    "        m_ci = [1]*(k+1)\n",
    "        for i in range(two_pow_k):\n",
    "            if(spectrum[i]!=0):\n",
    "                m_ci[no_ones[i]] = 0\n",
    "        m = 1\n",
    "        while(m<k+1 and m_ci[m]==1):\n",
    "            m+=1\n",
    "        m -= 1\n",
    "        # Let ci item = [x0, x1, ..., xm]. x0 is 1 if it is balanced, xi is 1 if it is i-correlation-immune\n",
    "        ci.append(([1] if spectrum[0]==two_pow_k//2 else [0])+(m)*[1]+(k-m)*[0])\n",
    "    return ci\n",
    "\n",
    "print(correlation_immunity(walsh_spectra))"
   ]
  },
  {
   "cell_type": "code",
   "execution_count": null,
   "id": "f41df0ae",
   "metadata": {},
   "outputs": [],
   "source": [
    "class NetworkModel(nn.Module):\n",
    "\n",
    "    def __init__(self, k):\n",
    "\n",
    "        # Initialize the network layers.\n",
    "\n",
    "        super(NetworkModel, self).__init__()\n",
    "        two_pow_k = pow(2, k)\n",
    "        self.lin1 = nn.Linear(two_pow_k, two_pow_k, bias=True)\n",
    "\n",
    "    def forward(self, x):\n",
    "\n",
    "        # A forward function\n",
    "        # Linear function without activation\n",
    "\n",
    "        x = self.lin1(x)\n",
    "        \n",
    "#         F-> WalshSpec\n",
    "#         WalshSpec = F * W_t\n",
    "\n",
    "        return x\n"
   ]
  },
  {
   "cell_type": "code",
   "execution_count": 16,
   "id": "c4f7ce2d",
   "metadata": {},
   "outputs": [
    {
     "name": "stdout",
     "output_type": "stream",
     "text": [
      "tensor([ 4.,  0.,  0.,  0.,  0.,  0.,  0., -4.])\n",
      "[1, 1, 0]\n"
     ]
    }
   ],
   "source": [
    "# print(len([0, 0, 0, 0, 0, 0, 0, 0, 0, 0, 1, 0, 0, 0, 0, 0, 0, 0, 0, 0, 0, 0, 0, 0, 0, 0, 0, 0, 2, 0, 0, 0, 0, 0, 0, 1, 0, 0, 2, 0, 0, 0, 0, 0, 0, 0, 0, 0, 1, 1, 0, 0, 0, 0]))\n",
    "# print(walsh_spectra[240])\n",
    "# print(correlation_immunity(walsh_spectra)[240])\n",
    "\n",
    "# two_pow_k, n = 16, 12\n",
    "# data = torch.tensor([[0.0 if random.random()>0.5 else 1.0 for i in range(two_pow_k)] for i in range(n)])\n",
    "# print(data)\n",
    "\n",
    "# print(walsh_spectra[:10])\n",
    "# print(k)\n",
    "\n",
    "# two_pow_k = 8\n",
    "# no_ones = []\n",
    "# for i in range(two_pow_k):\n",
    "#     no_ones.append(sum([int(dig) for dig in bin(i)[2:]]))\n",
    "# print(no_ones)"
   ]
  }
 ],
 "metadata": {
  "kernelspec": {
   "display_name": "Python 3 (ipykernel)",
   "language": "python",
   "name": "python3"
  },
  "language_info": {
   "codemirror_mode": {
    "name": "ipython",
    "version": 3
   },
   "file_extension": ".py",
   "mimetype": "text/x-python",
   "name": "python",
   "nbconvert_exporter": "python",
   "pygments_lexer": "ipython3",
   "version": "3.9.13"
  }
 },
 "nbformat": 4,
 "nbformat_minor": 5
}
