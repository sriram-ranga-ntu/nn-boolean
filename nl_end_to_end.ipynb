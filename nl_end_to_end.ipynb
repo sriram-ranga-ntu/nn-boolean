{
  "cells": [
    {
      "cell_type": "code",
      "execution_count": 48,
      "metadata": {
        "id": "-tis4N8LZiYy"
      },
      "outputs": [],
      "source": [
        "import torch\n",
        "import torch.nn as nn\n",
        "import torch.nn.functional as F\n",
        "import torch.optim as optim\n",
        "from torch.optim.lr_scheduler import CyclicLR\n",
        "import numpy as np\n",
        "import random\n",
        "from collections import OrderedDict\n",
        "import math\n",
        "from sklearn.model_selection import train_test_split\n",
        "from torch.utils.data import TensorDataset, DataLoader\n",
        "from tqdm.notebook import tqdm\n",
        "\n",
        "\n",
        "#Recursive function to generate Hadamard matrices of order equal to powers of two\n",
        "\n",
        "H = {}\n",
        "H[1] = torch.tensor([[1.0]])\n",
        "\n",
        "def Had(n):\n",
        "    if(n not in H):\n",
        "        Hnby2 = Had(n//2)\n",
        "        Hn = torch.ones(n, n)\n",
        "        for i in range(n//2):\n",
        "            for j in range(n//2):\n",
        "                Hn[i][j] = Hnby2[i][j]\n",
        "                Hn[i+n//2][j] = Hnby2[i][j]\n",
        "                Hn[i][j+n//2] = Hnby2[i][j]\n",
        "                Hn[i+n//2][j+n//2] = -Hnby2[i][j]\n",
        "        H[n] = Hn\n",
        "        return Hn\n",
        "    return H[n]\n",
        "\n",
        "# Generating n boolean functions in k variables\n",
        "def generate_data(k, n):\n",
        "    two_pow_k = pow(2, k)\n",
        "    # Input validation\n",
        "    if(n<two_pow_k):\n",
        "        print(f\"Need 2^{k} inputs atleast for the model to converge. Give a bigger number for n\")\n",
        "        return []\n",
        "    if(n>pow(2, two_pow_k)):\n",
        "        print(f\"n is greater than 2^2^{k}. Generating max possible functions - 2^2^{k}\")\n",
        "    if(two_pow_k<=16):\n",
        "#         For generating data of sufficient LI inputs:\n",
        "        while(True):\n",
        "            perm = torch.randperm(pow(2, two_pow_k))[:n]\n",
        "            data = [[0.0]*(two_pow_k-len(bin(num)[2:]))+[float(i) for i in bin(num)[2:]] for num in perm]\n",
        "            if(np.linalg.matrix_rank(data)<two_pow_k):\n",
        "                print(f'Rank ({np.linalg.matrix_rank(data)}) of data is not large enough. Generating again.')\n",
        "            else:\n",
        "                print(f'Data generated. Rank = {np.linalg.matrix_rank(data)}')\n",
        "                break\n",
        "    else:\n",
        "        data = [[0.0 if random.random()>0.5 else 1.0 for i in range(two_pow_k)] for i in range(n)]\n",
        "        print(\"Data generated.\")\n",
        "    return data\n",
        "\n",
        "def walsh_spectrum(bool_functions):\n",
        "    two_pow_k = len(bool_functions[0])\n",
        "    proc_functions = torch.Tensor([[1.0 if el==0.0 else -1.0 for el in bool_fun] for bool_fun in bool_functions])\n",
        "    ws = 0.5*(two_pow_k-abs(torch.matmul(proc_functions, Had(two_pow_k))))\n",
        "    return ws"
      ]
    },
    {
      "cell_type": "code",
      "execution_count": null,
      "metadata": {
        "colab": {
          "base_uri": "https://localhost:8080/"
        },
        "id": "nEafnW443UpL",
        "outputId": "bee478d0-4450-4e5f-ea7f-6dc928635cce"
      },
      "outputs": [
        {
          "name": "stdout",
          "output_type": "stream",
          "text": [
            "4 16 65536\n"
          ]
        }
      ],
      "source": [
        "# Please change the number of variables (k) in the Boolean function and \n",
        "# the number of functions to be given as input here\n",
        "k = 4\n",
        "two_pow_k = pow(2, k)\n",
        "n = pow(2, two_pow_k)\n",
        "numberOfInputs = 30000 # = pow(2, pow(2, k))\n",
        "\n",
        "print(\"k, 2**k, n, no_inputs: \", k, two_pow_k, n, numberOfInputs)"
      ]
    },
    {
      "cell_type": "code",
      "execution_count": 50,
      "metadata": {
        "colab": {
          "base_uri": "https://localhost:8080/"
        },
        "id": "v4c0Hby031X8",
        "outputId": "1ef820f1-12ed-4c16-9f00-d60f4a8def40"
      },
      "outputs": [
        {
          "name": "stdout",
          "output_type": "stream",
          "text": [
            "Data generated. Rank = 16\n",
            "tensor([[1., 1., 0., 0., 1., 0., 0., 1., 1., 0., 0., 1., 1., 1., 0., 1.],\n",
            "        [0., 1., 1., 0., 1., 1., 0., 0., 1., 0., 1., 0., 0., 1., 0., 1.],\n",
            "        [1., 1., 1., 1., 0., 0., 0., 0., 1., 0., 1., 1., 1., 0., 1., 1.],\n",
            "        [1., 1., 1., 1., 1., 1., 1., 0., 0., 0., 1., 1., 0., 1., 1., 1.]])\n",
            "tensor([[7., 7., 5., 3., 7., 7., 7., 7., 7., 7., 7., 7., 7., 7., 5., 5.],\n",
            "        [8., 8., 6., 6., 8., 4., 6., 6., 8., 8., 6., 6., 8., 4., 6., 6.],\n",
            "        [6., 6., 6., 6., 4., 8., 8., 8., 6., 6., 6., 6., 4., 8., 8., 8.],\n",
            "        [4., 8., 6., 6., 8., 8., 6., 6., 6., 6., 4., 8., 6., 6., 8., 8.]])\n",
            "tensor([[3.],\n",
            "        [4.],\n",
            "        [4.],\n",
            "        [4.]])\n"
          ]
        }
      ],
      "source": [
        "functions = torch.tensor(generate_data(k, numberOfInputs))\n",
        "ws = walsh_spectrum(functions)\n",
        "nls = torch.min(ws, dim=1).values.unsqueeze(1)\n",
        "device = torch.device('cuda' if torch.cuda.is_available() else 'cpu')\n",
        "\n",
        "inputs_train, inputs_temp, labels_train, labels_temp = train_test_split(functions.to(device), nls.to(device), test_size=0.2, random_state=42)\n",
        "inputs_valid, inputs_test, labels_valid, labels_test = train_test_split(inputs_temp, labels_temp, test_size=0.5, random_state=42)\n",
        "\n",
        "print(\"Training set size:\", len(inputs_train))\n",
        "print(\"Validation set size:\", len(inputs_valid))\n",
        "print(\"Test set size:\", len(inputs_test))"
      ]
    },
    {
      "cell_type": "code",
      "execution_count": 53,
      "metadata": {
        "id": "2JeBGgtk9t4D"
      },
      "outputs": [],
      "source": [
        "class NeuralNetwork(nn.Module):\n",
        "    def __init__(self, layer_sizes):\n",
        "        super(NeuralNetwork, self).__init__()\n",
        "        self.layers = nn.ModuleList()\n",
        "\n",
        "        for i in range(len(layer_sizes) - 1):\n",
        "            self.layers.append(nn.Linear(layer_sizes[i], layer_sizes[i+1]))\n",
        "            nn.init.kaiming_normal_(self.layers[-1].weight)\n",
        "\n",
        "    def forward(self, x):\n",
        "        for i in range(len(self.layers)-1):\n",
        "            x = F.relu(self.layers[i](x))\n",
        "        x = self.layers[-1](x)\n",
        "        return x\n",
        "    \n",
        "no_nodes = [64//(2**i) for i in range(int(math.log(64, 2)))]\n",
        "model = NeuralNetwork([32]+no_nodes+[1]).to(device)"
      ]
    },
    {
      "cell_type": "code",
      "execution_count": 55,
      "metadata": {
        "id": "2D0Xa2caZiY3"
      },
      "outputs": [],
      "source": [
        "# Define the loss function and optimizer\n",
        "\n",
        "loss_fn = nn.MSELoss()\n",
        "optimizer = optim.Adam(model.parameters(), lr=0.001)\n",
        "scheduler = CyclicLR(optimizer, base_lr=0.001, max_lr=0.1, step_size_up=200, mode='triangular', cycle_momentum=False)"
      ]
    },
    {
      "cell_type": "code",
      "execution_count": 56,
      "metadata": {
        "colab": {
          "base_uri": "https://localhost:8080/",
          "height": 917,
          "referenced_widgets": [
            "1da01454d0434bd7bd01687e386c9199",
            "2952e1a6a51247f2a63e360ecdd18776",
            "8e8889a638424e04825320ed8d6830d3",
            "72a9f9da545541bba48c36067dda66ad",
            "223ca988a48640b3aabc542d185c5d7f",
            "5ff3283a04c142469ccd2cf5389a2bb2",
            "4f26a984160c4a69877632d72bb20ea4",
            "a3e14177c3f5435d9f88305594f1dab0",
            "5679d5ea376f4b0fbb5b8819cc6c0a8c",
            "decebf3d45654b1aa49bed59e9f953f0",
            "dd6ee656c4434ee283a828ead08b77de"
          ]
        },
        "id": "_AwEx84W-Kxi",
        "outputId": "16fa2b8a-5cf3-4adb-dd29-706c20bd3d6b"
      },
      "outputs": [
        {
          "data": {
            "application/vnd.jupyter.widget-view+json": {
              "model_id": "1da01454d0434bd7bd01687e386c9199",
              "version_major": 2,
              "version_minor": 0
            },
            "text/plain": [
              "  0%|          | 0/100 [00:00<?, ?it/s]"
            ]
          },
          "metadata": {},
          "output_type": "display_data"
        },
        {
          "name": "stdout",
          "output_type": "stream",
          "text": [
            "Epoch 0, Train loss: 0.6203956007957458, Validation loss: 1.0767154693603516\n",
            "Epoch 2, Train loss: 1.0139473676681519, Validation loss: 0.8429515361785889\n",
            "Epoch 4, Train loss: 0.5972608327865601, Validation loss: 0.8374539017677307\n",
            "Epoch 6, Train loss: 0.8730847835540771, Validation loss: 0.8223941922187805\n",
            "Epoch 8, Train loss: 0.72479248046875, Validation loss: 0.7996020913124084\n",
            "Epoch 10, Train loss: 0.7639753222465515, Validation loss: 0.7867345213890076\n",
            "Epoch 12, Train loss: 0.5157390236854553, Validation loss: 0.7699894905090332\n",
            "Epoch 14, Train loss: 1.0534406900405884, Validation loss: 0.752424955368042\n",
            "Epoch 16, Train loss: 0.6246572732925415, Validation loss: 0.724457859992981\n",
            "Epoch 18, Train loss: 0.7014378309249878, Validation loss: 0.7182365655899048\n",
            "Epoch 20, Train loss: 0.985036313533783, Validation loss: 0.6776837706565857\n",
            "Epoch 22, Train loss: 0.661239743232727, Validation loss: 0.6190766096115112\n",
            "Epoch 24, Train loss: 0.42891785502433777, Validation loss: 0.4678153395652771\n",
            "Epoch 26, Train loss: 0.4878288507461548, Validation loss: 0.35956254601478577\n",
            "Epoch 28, Train loss: 0.35427072644233704, Validation loss: 0.32060009241104126\n",
            "Epoch 30, Train loss: 0.31281885504722595, Validation loss: 0.3093394339084625\n",
            "Epoch 32, Train loss: 0.2293863594532013, Validation loss: 0.2831122577190399\n",
            "Epoch 34, Train loss: 0.28871169686317444, Validation loss: 0.2617330551147461\n",
            "Epoch 36, Train loss: 0.3449332118034363, Validation loss: 0.28030329942703247\n",
            "Epoch 38, Train loss: 0.28569257259368896, Validation loss: 0.21817828714847565\n",
            "Epoch 40, Train loss: 0.13605071604251862, Validation loss: 0.19285869598388672\n",
            "Epoch 42, Train loss: 0.1868022382259369, Validation loss: 0.16960543394088745\n",
            "Epoch 44, Train loss: 0.2829202711582184, Validation loss: 0.13639235496520996\n",
            "Epoch 46, Train loss: 0.09368064254522324, Validation loss: 0.11672043055295944\n",
            "Epoch 48, Train loss: 0.1834256500005722, Validation loss: 0.1303284913301468\n",
            "Epoch 50, Train loss: 0.08251061290502548, Validation loss: 0.09886205941438675\n",
            "Epoch 52, Train loss: 0.05358500778675079, Validation loss: 0.10152237117290497\n",
            "Epoch 54, Train loss: 0.07124518603086472, Validation loss: 0.07784739136695862\n",
            "Epoch 56, Train loss: 0.08464331179857254, Validation loss: 0.08946037292480469\n",
            "Epoch 58, Train loss: 0.09532121568918228, Validation loss: 0.10530127584934235\n",
            "Epoch 60, Train loss: 0.0768234059214592, Validation loss: 0.06144099310040474\n",
            "Epoch 62, Train loss: 0.0808459222316742, Validation loss: 0.07387904822826385\n",
            "Epoch 64, Train loss: 0.06189396232366562, Validation loss: 0.07473411411046982\n",
            "Epoch 66, Train loss: 0.031321629881858826, Validation loss: 0.056997932493686676\n",
            "Epoch 68, Train loss: 0.0303971990942955, Validation loss: 0.05614268034696579\n",
            "Epoch 70, Train loss: 0.08361406624317169, Validation loss: 0.09522156417369843\n",
            "Epoch 72, Train loss: 0.07248693704605103, Validation loss: 0.058577779680490494\n",
            "Epoch 74, Train loss: 0.05376477167010307, Validation loss: 0.052167195826768875\n",
            "Epoch 76, Train loss: 0.03287716209888458, Validation loss: 0.043622955679893494\n",
            "Epoch 78, Train loss: 0.01907625049352646, Validation loss: 0.04197714105248451\n",
            "Epoch 80, Train loss: 0.04739471152424812, Validation loss: 0.03735249489545822\n",
            "Epoch 82, Train loss: 0.12524767220020294, Validation loss: 0.06936490535736084\n",
            "Epoch 84, Train loss: 0.0500863753259182, Validation loss: 0.035451892763376236\n",
            "Epoch 86, Train loss: 0.08545999228954315, Validation loss: 0.06745489686727524\n",
            "Epoch 88, Train loss: 0.03698451444506645, Validation loss: 0.025896327570080757\n",
            "Epoch 90, Train loss: 0.02738940715789795, Validation loss: 0.05050788074731827\n",
            "Epoch 92, Train loss: 0.04360223561525345, Validation loss: 0.035480283200740814\n",
            "Epoch 94, Train loss: 0.0290139839053154, Validation loss: 0.06845352798700333\n",
            "Epoch 96, Train loss: 0.03281301632523537, Validation loss: 0.04706445708870888\n",
            "Epoch 98, Train loss: 0.0065033938735723495, Validation loss: 0.020811235532164574\n"
          ]
        }
      ],
      "source": [
        "# Training loop\n",
        "learningRate = 0.1\n",
        "batchSize = 64\n",
        "max_epochs = 100\n",
        "\n",
        "patience = 10  # Number of epochs to wait for improvement before stopping\n",
        "best_loss = np.inf  # Initialize best loss to infinity\n",
        "epochs_no_improve = 0  # Counter to keep track of number of epochs without improvement\n",
        "loss, validation_loss = np.inf, np.inf\n",
        "\n",
        "# Create a TensorDataset and DataLoader from inputs and labels\n",
        "dataset = TensorDataset(inputs_train, labels_train)\n",
        "dataloader = DataLoader(dataset, batch_size=1024, shuffle=True)\n",
        "\n",
        "for epoch in tqdm(range(max_epochs)):  # 100 epochs\n",
        "    for batch_inputs, batch_labels in dataloader:  # Iterate over batches\n",
        "        optimizer.zero_grad()  # Zero the gradients\n",
        "        predictions = model(batch_inputs)  # Forward pass\n",
        "        loss = loss_fn(predictions, batch_labels)  # Compute loss\n",
        "        loss.backward()  # Backward pass\n",
        "        optimizer.step()  # Update weights\n",
        "\n",
        "    if epoch % 2 == 0:  # Print loss every 2 epochs\n",
        "        with torch.no_grad():  # Disable gradient computation for validation\n",
        "            validation_predictions = model(inputs_valid)  # Get validation predictions\n",
        "            validation_loss = loss_fn(validation_predictions, labels_valid)  # Compute validation loss\n",
        "        print(f'Epoch {epoch}, Train loss: {loss.item()}, Validation loss: {validation_loss.item()}')\n",
        "\n",
        "        # Check if the validation loss has improved\n",
        "        if validation_loss.item() < 0.90*best_loss:\n",
        "            best_loss = validation_loss.item()\n",
        "            epochs_no_improve = 0\n",
        "        else:\n",
        "            epochs_no_improve += 2\n",
        "            # If the validation loss hasn't improved for 'patience' epochs, stop training\n",
        "            if epochs_no_improve >= patience:\n",
        "                print('Stopping early!')\n",
        "                break"
      ]
    },
    {
      "cell_type": "code",
      "execution_count": 57,
      "metadata": {
        "id": "X-hibVs6ZiY6"
      },
      "outputs": [],
      "source": [
        "import numpy as np\n",
        "from sklearn.metrics import confusion_matrix\n",
        "import matplotlib.pyplot as plt\n",
        "import seaborn as sns\n",
        "\n",
        "# Use the model to make predictions on the test data\n",
        "with torch.no_grad():\n",
        "    y_pred = torch.round(model(inputs_test))\n",
        "    y_pred_val = torch.round(model(inputs_valid))\n",
        "    y_pred_train = torch.round(model(inputs_train))\n",
        "\n",
        "# Convert the predictions and the labels to numpy arrays\n",
        "y_test_np = labels_test.cpu().numpy()\n",
        "y_valid_np = labels_valid.cpu().numpy()\n",
        "y_train_np = labels_train.cpu().numpy()\n",
        "y_pred_np = y_pred.detach().cpu().numpy()\n",
        "y_pred_val_np = y_pred_val.detach().cpu().numpy()\n",
        "y_pred_train_np = y_pred_train.detach().cpu().numpy()"
      ]
    },
    {
      "cell_type": "code",
      "execution_count": 58,
      "metadata": {
        "colab": {
          "base_uri": "https://localhost:8080/"
        },
        "id": "dPRSNSZ4CT3n",
        "outputId": "974caef1-7a6f-4b06-d0c8-ddd2d38f795f"
      },
      "outputs": [
        {
          "name": "stdout",
          "output_type": "stream",
          "text": [
            "Train accuracy: 99.74%\n",
            "Validation accuracy: 99.53%\n",
            "Test accuracy: 99.59%\n"
          ]
        }
      ],
      "source": [
        "from sklearn.metrics import accuracy_score\n",
        "\n",
        "# Calculate accuracy for each split\n",
        "train_accuracy = accuracy_score(y_train_np, y_pred_train_np)\n",
        "valid_accuracy = accuracy_score(y_valid_np, y_pred_val_np)\n",
        "test_accuracy = accuracy_score(y_test_np, y_pred_np)\n",
        "\n",
        "print(f\"Train accuracy: {train_accuracy*100:.2f}%\")\n",
        "print(f\"Validation accuracy: {valid_accuracy*100:.2f}%\")\n",
        "print(f\"Test accuracy: {test_accuracy*100:.2f}%\")"
      ]
    },
    {
      "cell_type": "code",
      "execution_count": 59,
      "metadata": {
        "colab": {
          "base_uri": "https://localhost:8080/",
          "height": 1000
        },
        "id": "-Hli0ASPZiY7",
        "outputId": "bf3802fa-5e31-4615-deb6-1186a2e1ab08"
      },
      "outputs": [
        {
          "data": {
            "image/png": "[encoded data removed]",
            "text/plain": [
              "<Figure size 1000x700 with 2 Axes>"
            ]
          },
          "metadata": {},
          "output_type": "display_data"
        },
        {
          "data": {
            "image/png": "[encoded data removed]",
            "text/plain": [
              "<Figure size 1000x700 with 2 Axes>"
            ]
          },
          "metadata": {},
          "output_type": "display_data"
        },
        {
          "data": {
            "image/png": "[encoded data removed]",
            "text/plain": [
              "<Figure size 1000x700 with 2 Axes>"
            ]
          },
          "metadata": {},
          "output_type": "display_data"
        }
      ],
      "source": [
        "# Compute the confusion matrix\n",
        "cm1 = confusion_matrix(y_test_np, y_pred_np)\n",
        "cm2 = confusion_matrix(y_valid_np, y_pred_val_np)\n",
        "cm3 = confusion_matrix(y_train_np, y_pred_train_np)\n",
        "\n",
        "# Print the confusion matrix\n",
        "# print(cm1)\n",
        "# print(cm2)\n",
        "\n",
        "# Plot confusion matrix for train data\n",
        "plt.figure(figsize=(10, 7))\n",
        "sns.heatmap(cm3, annot=True, fmt='d')\n",
        "plt.xlabel('Predicted')\n",
        "plt.ylabel('Actual')\n",
        "plt.title('Confusion matrix for train data')\n",
        "plt.show()\n",
        "\n",
        "# Plot confusion matrix for validation data\n",
        "plt.figure(figsize=(10, 7))\n",
        "sns.heatmap(cm2, annot=True, fmt='d')\n",
        "plt.xlabel('Predicted')\n",
        "plt.ylabel('Actual')\n",
        "plt.title('Confusion matrix for validation data')\n",
        "plt.show()\n",
        "\n",
        "# Plot confusion matrix for test data\n",
        "plt.figure(figsize=(10, 7))\n",
        "sns.heatmap(cm1, annot=True, fmt='d')\n",
        "plt.xlabel('Predicted')\n",
        "plt.ylabel('Actual')\n",
        "plt.title('Confusion matrix for test data')\n",
        "plt.show()\n"
      ]
    },
    {
      "cell_type": "code",
      "execution_count": 61,
      "metadata": {
        "id": "MlAi0ThhI1VC"
      },
      "outputs": [],
      "source": [
        "torch.save(model.state_dict(), 'n4_30k_samples_relu_model.pth')\n"
      ]
    }
  ],
  "metadata": {
    "accelerator": "GPU",
    "colab": {
      "gpuType": "T4",
      "provenance": []
    },
    "kernelspec": {
      "display_name": "Python 3",
      "name": "python3"
    },
    "language_info": {
      "codemirror_mode": {
        "name": "ipython",
        "version": 3
      },
      "file_extension": ".py",
      "mimetype": "text/x-python",
      "name": "python",
      "nbconvert_exporter": "python",
      "pygments_lexer": "ipython3",
      "version": "3.9.13"
    },
    "widgets": {
      "application/vnd.jupyter.widget-state+json": {
        "1da01454d0434bd7bd01687e386c9199": {
          "model_module": "@jupyter-widgets/controls",
          "model_module_version": "1.5.0",
          "model_name": "HBoxModel",
          "state": {
            "_dom_classes": [],
            "_model_module": "@jupyter-widgets/controls",
            "_model_module_version": "1.5.0",
            "_model_name": "HBoxModel",
            "_view_count": null,
            "_view_module": "@jupyter-widgets/controls",
            "_view_module_version": "1.5.0",
            "_view_name": "HBoxView",
            "box_style": "",
            "children": [
              "IPY_MODEL_2952e1a6a51247f2a63e360ecdd18776",
              "IPY_MODEL_8e8889a638424e04825320ed8d6830d3",
              "IPY_MODEL_72a9f9da545541bba48c36067dda66ad"
            ],
            "layout": "IPY_MODEL_223ca988a48640b3aabc542d185c5d7f"
          }
        },
        "223ca988a48640b3aabc542d185c5d7f": {
          "model_module": "@jupyter-widgets/base",
          "model_module_version": "1.2.0",
          "model_name": "LayoutModel",
          "state": {
            "_model_module": "@jupyter-widgets/base",
            "_model_module_version": "1.2.0",
            "_model_name": "LayoutModel",
            "_view_count": null,
            "_view_module": "@jupyter-widgets/base",
            "_view_module_version": "1.2.0",
            "_view_name": "LayoutView",
            "align_content": null,
            "align_items": null,
            "align_self": null,
            "border": null,
            "bottom": null,
            "display": null,
            "flex": null,
            "flex_flow": null,
            "grid_area": null,
            "grid_auto_columns": null,
            "grid_auto_flow": null,
            "grid_auto_rows": null,
            "grid_column": null,
            "grid_gap": null,
            "grid_row": null,
            "grid_template_areas": null,
            "grid_template_columns": null,
            "grid_template_rows": null,
            "height": null,
            "justify_content": null,
            "justify_items": null,
            "left": null,
            "margin": null,
            "max_height": null,
            "max_width": null,
            "min_height": null,
            "min_width": null,
            "object_fit": null,
            "object_position": null,
            "order": null,
            "overflow": null,
            "overflow_x": null,
            "overflow_y": null,
            "padding": null,
            "right": null,
            "top": null,
            "visibility": null,
            "width": null
          }
        },
        "2952e1a6a51247f2a63e360ecdd18776": {
          "model_module": "@jupyter-widgets/controls",
          "model_module_version": "1.5.0",
          "model_name": "HTMLModel",
          "state": {
            "_dom_classes": [],
            "_model_module": "@jupyter-widgets/controls",
            "_model_module_version": "1.5.0",
            "_model_name": "HTMLModel",
            "_view_count": null,
            "_view_module": "@jupyter-widgets/controls",
            "_view_module_version": "1.5.0",
            "_view_name": "HTMLView",
            "description": "",
            "description_tooltip": null,
            "layout": "IPY_MODEL_5ff3283a04c142469ccd2cf5389a2bb2",
            "placeholder": "​",
            "style": "IPY_MODEL_4f26a984160c4a69877632d72bb20ea4",
            "value": "100%"
          }
        },
        "4f26a984160c4a69877632d72bb20ea4": {
          "model_module": "@jupyter-widgets/controls",
          "model_module_version": "1.5.0",
          "model_name": "DescriptionStyleModel",
          "state": {
            "_model_module": "@jupyter-widgets/controls",
            "_model_module_version": "1.5.0",
            "_model_name": "DescriptionStyleModel",
            "_view_count": null,
            "_view_module": "@jupyter-widgets/base",
            "_view_module_version": "1.2.0",
            "_view_name": "StyleView",
            "description_width": ""
          }
        },
        "5679d5ea376f4b0fbb5b8819cc6c0a8c": {
          "model_module": "@jupyter-widgets/controls",
          "model_module_version": "1.5.0",
          "model_name": "ProgressStyleModel",
          "state": {
            "_model_module": "@jupyter-widgets/controls",
            "_model_module_version": "1.5.0",
            "_model_name": "ProgressStyleModel",
            "_view_count": null,
            "_view_module": "@jupyter-widgets/base",
            "_view_module_version": "1.2.0",
            "_view_name": "StyleView",
            "bar_color": null,
            "description_width": ""
          }
        },
        "5ff3283a04c142469ccd2cf5389a2bb2": {
          "model_module": "@jupyter-widgets/base",
          "model_module_version": "1.2.0",
          "model_name": "LayoutModel",
          "state": {
            "_model_module": "@jupyter-widgets/base",
            "_model_module_version": "1.2.0",
            "_model_name": "LayoutModel",
            "_view_count": null,
            "_view_module": "@jupyter-widgets/base",
            "_view_module_version": "1.2.0",
            "_view_name": "LayoutView",
            "align_content": null,
            "align_items": null,
            "align_self": null,
            "border": null,
            "bottom": null,
            "display": null,
            "flex": null,
            "flex_flow": null,
            "grid_area": null,
            "grid_auto_columns": null,
            "grid_auto_flow": null,
            "grid_auto_rows": null,
            "grid_column": null,
            "grid_gap": null,
            "grid_row": null,
            "grid_template_areas": null,
            "grid_template_columns": null,
            "grid_template_rows": null,
            "height": null,
            "justify_content": null,
            "justify_items": null,
            "left": null,
            "margin": null,
            "max_height": null,
            "max_width": null,
            "min_height": null,
            "min_width": null,
            "object_fit": null,
            "object_position": null,
            "order": null,
            "overflow": null,
            "overflow_x": null,
            "overflow_y": null,
            "padding": null,
            "right": null,
            "top": null,
            "visibility": null,
            "width": null
          }
        },
        "72a9f9da545541bba48c36067dda66ad": {
          "model_module": "@jupyter-widgets/controls",
          "model_module_version": "1.5.0",
          "model_name": "HTMLModel",
          "state": {
            "_dom_classes": [],
            "_model_module": "@jupyter-widgets/controls",
            "_model_module_version": "1.5.0",
            "_model_name": "HTMLModel",
            "_view_count": null,
            "_view_module": "@jupyter-widgets/controls",
            "_view_module_version": "1.5.0",
            "_view_name": "HTMLView",
            "description": "",
            "description_tooltip": null,
            "layout": "IPY_MODEL_decebf3d45654b1aa49bed59e9f953f0",
            "placeholder": "​",
            "style": "IPY_MODEL_dd6ee656c4434ee283a828ead08b77de",
            "value": " 100/100 [01:57&lt;00:00,  1.11s/it]"
          }
        },
        "8e8889a638424e04825320ed8d6830d3": {
          "model_module": "@jupyter-widgets/controls",
          "model_module_version": "1.5.0",
          "model_name": "FloatProgressModel",
          "state": {
            "_dom_classes": [],
            "_model_module": "@jupyter-widgets/controls",
            "_model_module_version": "1.5.0",
            "_model_name": "FloatProgressModel",
            "_view_count": null,
            "_view_module": "@jupyter-widgets/controls",
            "_view_module_version": "1.5.0",
            "_view_name": "ProgressView",
            "bar_style": "success",
            "description": "",
            "description_tooltip": null,
            "layout": "IPY_MODEL_a3e14177c3f5435d9f88305594f1dab0",
            "max": 100,
            "min": 0,
            "orientation": "horizontal",
            "style": "IPY_MODEL_5679d5ea376f4b0fbb5b8819cc6c0a8c",
            "value": 100
          }
        },
        "a3e14177c3f5435d9f88305594f1dab0": {
          "model_module": "@jupyter-widgets/base",
          "model_module_version": "1.2.0",
          "model_name": "LayoutModel",
          "state": {
            "_model_module": "@jupyter-widgets/base",
            "_model_module_version": "1.2.0",
            "_model_name": "LayoutModel",
            "_view_count": null,
            "_view_module": "@jupyter-widgets/base",
            "_view_module_version": "1.2.0",
            "_view_name": "LayoutView",
            "align_content": null,
            "align_items": null,
            "align_self": null,
            "border": null,
            "bottom": null,
            "display": null,
            "flex": null,
            "flex_flow": null,
            "grid_area": null,
            "grid_auto_columns": null,
            "grid_auto_flow": null,
            "grid_auto_rows": null,
            "grid_column": null,
            "grid_gap": null,
            "grid_row": null,
            "grid_template_areas": null,
            "grid_template_columns": null,
            "grid_template_rows": null,
            "height": null,
            "justify_content": null,
            "justify_items": null,
            "left": null,
            "margin": null,
            "max_height": null,
            "max_width": null,
            "min_height": null,
            "min_width": null,
            "object_fit": null,
            "object_position": null,
            "order": null,
            "overflow": null,
            "overflow_x": null,
            "overflow_y": null,
            "padding": null,
            "right": null,
            "top": null,
            "visibility": null,
            "width": null
          }
        },
        "dd6ee656c4434ee283a828ead08b77de": {
          "model_module": "@jupyter-widgets/controls",
          "model_module_version": "1.5.0",
          "model_name": "DescriptionStyleModel",
          "state": {
            "_model_module": "@jupyter-widgets/controls",
            "_model_module_version": "1.5.0",
            "_model_name": "DescriptionStyleModel",
            "_view_count": null,
            "_view_module": "@jupyter-widgets/base",
            "_view_module_version": "1.2.0",
            "_view_name": "StyleView",
            "description_width": ""
          }
        },
        "decebf3d45654b1aa49bed59e9f953f0": {
          "model_module": "@jupyter-widgets/base",
          "model_module_version": "1.2.0",
          "model_name": "LayoutModel",
          "state": {
            "_model_module": "@jupyter-widgets/base",
            "_model_module_version": "1.2.0",
            "_model_name": "LayoutModel",
            "_view_count": null,
            "_view_module": "@jupyter-widgets/base",
            "_view_module_version": "1.2.0",
            "_view_name": "LayoutView",
            "align_content": null,
            "align_items": null,
            "align_self": null,
            "border": null,
            "bottom": null,
            "display": null,
            "flex": null,
            "flex_flow": null,
            "grid_area": null,
            "grid_auto_columns": null,
            "grid_auto_flow": null,
            "grid_auto_rows": null,
            "grid_column": null,
            "grid_gap": null,
            "grid_row": null,
            "grid_template_areas": null,
            "grid_template_columns": null,
            "grid_template_rows": null,
            "height": null,
            "justify_content": null,
            "justify_items": null,
            "left": null,
            "margin": null,
            "max_height": null,
            "max_width": null,
            "min_height": null,
            "min_width": null,
            "object_fit": null,
            "object_position": null,
            "order": null,
            "overflow": null,
            "overflow_x": null,
            "overflow_y": null,
            "padding": null,
            "right": null,
            "top": null,
            "visibility": null,
            "width": null
          }
        }
      }
    }
  },
  "nbformat": 4,
  "nbformat_minor": 0
}
