{
 "cells": [
  {
   "cell_type": "code",
   "execution_count": 22,
   "id": "b93e7126",
   "metadata": {},
   "outputs": [],
   "source": [
    "import torch\n",
    "import torch.nn as nn\n",
    "import torch.optim as optim\n",
    "import torchvision\n",
    "import torchvision.transforms as transforms\n",
    "import numpy as np\n",
    "import torch.nn.functional as F\n",
    "from collections import OrderedDict"
   ]
  },
  {
   "cell_type": "code",
   "execution_count": 2,
   "id": "e94fb62f",
   "metadata": {},
   "outputs": [],
   "source": [
    "class BinarizeLayer(torch.autograd.Function):\n",
    "    @staticmethod\n",
    "    def forward(ctx, input):\n",
    "        ctx.save_for_backward(input)\n",
    "        return torch.sign(input)\n",
    "\n",
    "    @staticmethod\n",
    "    def backward(ctx, grad_output):\n",
    "        input, = ctx.saved_tensors\n",
    "        grad_input = grad_output.clone()\n",
    "        grad_input[input.ge(1)] = 0\n",
    "        grad_input[input.le(-1)] = 0\n",
    "        return grad_input"
   ]
  },
  {
   "cell_type": "code",
   "execution_count": 31,
   "id": "ff56e7c4",
   "metadata": {},
   "outputs": [],
   "source": [
    "class BinarizedNN(nn.Module):\n",
    "    def __init__(self):\n",
    "        super(BinarizedNN, self).__init__()\n",
    "        self.fc1 = nn.Linear(4, 4, bias=False)\n",
    "\n",
    "    def forward(self, x):\n",
    "#         x = x.view(x.size(0), -1)  # Flatten the input\n",
    "        x = BinarizeLayer.apply(self.fc1(x))\n",
    "        return x"
   ]
  },
  {
   "cell_type": "code",
   "execution_count": 15,
   "id": "e4f13bb7",
   "metadata": {},
   "outputs": [
    {
     "name": "stdout",
     "output_type": "stream",
     "text": [
      "tensor([12,  7, 10, 11, 15,  6,  4, 14,  2,  3,  5, 13,  1,  8,  0,  9])\n",
      "[tensor([1., 1., 0., 0.]), tensor([0., 1., 1., 1.]), tensor([1., 0., 1., 0.]), tensor([1., 0., 1., 1.]), tensor([1., 1., 1., 1.]), tensor([0., 1., 1., 0.]), tensor([0., 1., 0., 0.]), tensor([1., 1., 1., 0.]), tensor([0., 0., 1., 0.]), tensor([0., 0., 1., 1.]), tensor([0., 1., 0., 1.]), tensor([1., 1., 0., 1.]), tensor([0., 0., 0., 1.]), tensor([1., 0., 0., 0.]), tensor([0., 0., 0., 0.]), tensor([1., 0., 0., 1.])]\n",
      "[tensor([2., 0., 2., 0.]), tensor([ 3., -1., -1., -1.]), tensor([2., 2., 0., 0.]), tensor([ 3.,  1., -1.,  1.]), tensor([4., 0., 0., 0.]), tensor([ 2.,  0.,  0., -2.]), tensor([ 1., -1.,  1., -1.]), tensor([ 3.,  1.,  1., -1.]), tensor([ 1.,  1., -1., -1.]), tensor([ 2.,  0., -2.,  0.]), tensor([ 2., -2.,  0.,  0.]), tensor([ 3., -1.,  1.,  1.]), tensor([ 1., -1., -1.,  1.]), tensor([1., 1., 1., 1.]), tensor([0., 0., 0., 0.]), tensor([2., 0., 0., 2.])]\n"
     ]
    }
   ],
   "source": [
    "H4 = torch.tensor([[1.0, 1.0, 1.0, 1.0], [1.0, -1.0, 1.0, -1.0], [1.0, 1.0, -1.0, -1.0], [1.0, -1.0, -1.0, 1.0]])\n",
    "perm = torch.randperm(pow(2, 4))\n",
    "print(perm)\n",
    "inputs = [torch.tensor([0.0]*(4-len(bin(num)[2:]))+[float(i) for i in bin(num)[2:]]) for num in perm]\n",
    "print(inputs)\n",
    "outputs = [np.matmul(H4, inp) for inp in inputs]\n",
    "print(outputs)"
   ]
  },
  {
   "cell_type": "code",
   "execution_count": 16,
   "id": "9be246c2",
   "metadata": {},
   "outputs": [
    {
     "name": "stdout",
     "output_type": "stream",
     "text": [
      "tensor([2., 0., 2., 0.])\n"
     ]
    }
   ],
   "source": [
    "print(outputs[0])"
   ]
  },
  {
   "cell_type": "code",
   "execution_count": 33,
   "id": "980abe4c",
   "metadata": {},
   "outputs": [],
   "source": [
    "learning_rate = 0.01\n",
    "num_epochs = 100\n",
    "\n",
    "# Initialize the BNN model and optimizer\n",
    "model = BinarizedNN()\n",
    "optimizer = optim.Adam(model.parameters(), lr=learning_rate)\n",
    "criterion = nn.CrossEntropyLoss()"
   ]
  },
  {
   "cell_type": "code",
   "execution_count": 34,
   "id": "d90602d2",
   "metadata": {},
   "outputs": [
    {
     "name": "stdout",
     "output_type": "stream",
     "text": [
      "Epoch 1, Loss: 2.5\n",
      "Epoch 5, Loss: 0.9375\n",
      "Epoch 10, Loss: 0.8125\n",
      "Epoch 15, Loss: 0.8125\n",
      "Epoch 20, Loss: 0.8125\n",
      "Epoch 25, Loss: 0.8125\n",
      "Epoch 30, Loss: 0.8125\n",
      "Epoch 35, Loss: 0.8125\n",
      "Epoch 40, Loss: 0.8125\n",
      "Epoch 45, Loss: 0.8125\n",
      "Epoch 50, Loss: 0.8125\n",
      "Epoch 55, Loss: 0.8125\n",
      "Epoch 60, Loss: 0.8125\n",
      "Epoch 65, Loss: 0.8125\n",
      "Epoch 70, Loss: 0.8125\n",
      "Epoch 75, Loss: 0.8125\n",
      "Epoch 80, Loss: 0.8125\n",
      "Epoch 85, Loss: 0.8125\n",
      "Epoch 90, Loss: 0.8125\n",
      "Epoch 95, Loss: 0.8125\n",
      "Epoch 100, Loss: 0.8125\n"
     ]
    }
   ],
   "source": [
    "for epoch in range(num_epochs):\n",
    "    total_loss = 0.0\n",
    "    for i in range(16):\n",
    "        input_bf = inputs[i]\n",
    "        optimizer.zero_grad()\n",
    "\n",
    "        # Forward pass\n",
    "        output = model(input_bf)\n",
    "\n",
    "        # Compute loss\n",
    "        loss = F.mse_loss(output, outputs[i])\n",
    "\n",
    "        # Backpropagation\n",
    "        loss.backward()\n",
    "        optimizer.step()\n",
    "\n",
    "        total_loss += loss.item()\n",
    "\n",
    "    if(epoch==0 or epoch%5==4):\n",
    "        print(f'Epoch {epoch + 1}, Loss: {total_loss / 16}')"
   ]
  },
  {
   "cell_type": "code",
   "execution_count": 64,
   "id": "0304043f",
   "metadata": {},
   "outputs": [
    {
     "name": "stdout",
     "output_type": "stream",
     "text": [
      "tensor([[ 1.,  1.,  1.,  1.],\n",
      "        [ 1., -1.,  1., -1.],\n",
      "        [ 1.,  1., -1., -1.],\n",
      "        [ 1., -1., -1.,  1.]])\n"
     ]
    },
    {
     "name": "stderr",
     "output_type": "stream",
     "text": [
      "C:\\Users\\ranga\\AppData\\Local\\Temp\\ipykernel_19468\\2147777337.py:4: UserWarning: To copy construct from a tensor, it is recommended to use sourceTensor.clone().detach() or sourceTensor.clone().detach().requires_grad_(True), rather than torch.tensor(sourceTensor).\n",
      "  print(torch.sign(torch.tensor(weight_dict['fc1.weight'])))\n"
     ]
    }
   ],
   "source": [
    "weight_dict = OrderedDict(model.named_parameters())\n",
    "# weightFunction = weight_dict['fc1.weight'].T\n",
    "# print(\"Final weight function: \\n\", weightFunction)\n",
    "print(torch.sign(torch.tensor(weight_dict['fc1.weight'])))"
   ]
  },
  {
   "cell_type": "code",
   "execution_count": 67,
   "id": "1f303456",
   "metadata": {},
   "outputs": [
    {
     "ename": "RuntimeError",
     "evalue": "Boolean value of Tensor with more than one value is ambiguous",
     "output_type": "error",
     "traceback": [
      "\u001b[1;31m---------------------------------------------------------------------------\u001b[0m",
      "\u001b[1;31mRuntimeError\u001b[0m                              Traceback (most recent call last)",
      "\u001b[1;32m~\\AppData\\Local\\Temp\\ipykernel_19468\\1789342880.py\u001b[0m in \u001b[0;36m<module>\u001b[1;34m\u001b[0m\n\u001b[0;32m      1\u001b[0m \u001b[0mmodel\u001b[0m\u001b[1;33m.\u001b[0m\u001b[0meval\u001b[0m\u001b[1;33m(\u001b[0m\u001b[1;33m)\u001b[0m\u001b[1;33m\u001b[0m\u001b[1;33m\u001b[0m\u001b[0m\n\u001b[0;32m      2\u001b[0m \u001b[1;32mfor\u001b[0m \u001b[0mi\u001b[0m \u001b[1;32min\u001b[0m \u001b[0mrange\u001b[0m\u001b[1;33m(\u001b[0m\u001b[1;36m16\u001b[0m\u001b[1;33m)\u001b[0m\u001b[1;33m:\u001b[0m\u001b[1;33m\u001b[0m\u001b[1;33m\u001b[0m\u001b[0m\n\u001b[1;32m----> 3\u001b[1;33m     \u001b[1;32mif\u001b[0m\u001b[1;33m(\u001b[0m\u001b[1;32mnot\u001b[0m \u001b[0mtorch\u001b[0m\u001b[1;33m.\u001b[0m\u001b[0meq\u001b[0m\u001b[1;33m(\u001b[0m\u001b[0moutputs\u001b[0m\u001b[1;33m[\u001b[0m\u001b[0mi\u001b[0m\u001b[1;33m]\u001b[0m\u001b[1;33m,\u001b[0m \u001b[0mmodel\u001b[0m\u001b[1;33m(\u001b[0m\u001b[0minputs\u001b[0m\u001b[1;33m[\u001b[0m\u001b[0mi\u001b[0m\u001b[1;33m]\u001b[0m\u001b[1;33m)\u001b[0m\u001b[1;33m)\u001b[0m\u001b[1;33m)\u001b[0m\u001b[1;33m:\u001b[0m\u001b[1;33m\u001b[0m\u001b[1;33m\u001b[0m\u001b[0m\n\u001b[0m\u001b[0;32m      4\u001b[0m         \u001b[0mprint\u001b[0m\u001b[1;33m(\u001b[0m\u001b[0mi\u001b[0m\u001b[1;33m,\u001b[0m \u001b[1;34m\": \"\u001b[0m\u001b[1;33m,\u001b[0m \u001b[0moutputs\u001b[0m\u001b[1;33m[\u001b[0m\u001b[0mi\u001b[0m\u001b[1;33m]\u001b[0m\u001b[1;33m,\u001b[0m \u001b[0minputs\u001b[0m\u001b[1;33m[\u001b[0m\u001b[0mi\u001b[0m\u001b[1;33m]\u001b[0m\u001b[1;33m)\u001b[0m\u001b[1;33m\u001b[0m\u001b[1;33m\u001b[0m\u001b[0m\n\u001b[0;32m      5\u001b[0m \u001b[1;31m# ws = model(torch.tensor([-2.0, 0, 2, 2]))\u001b[0m\u001b[1;33m\u001b[0m\u001b[1;33m\u001b[0m\u001b[0m\n",
      "\u001b[1;31mRuntimeError\u001b[0m: Boolean value of Tensor with more than one value is ambiguous"
     ]
    }
   ],
   "source": [
    "model.eval()\n",
    "for i in range(16):\n",
    "    if(not torch.eq(outputs[i], model(inputs[i]))):\n",
    "        print(i, \": \", outputs[i], inputs[i])\n",
    "# ws = model(torch.tensor([-2.0, 0, 2, 2]))\n",
    "# print(ws)"
   ]
  },
  {
   "cell_type": "code",
   "execution_count": 75,
   "id": "377a4e3b",
   "metadata": {},
   "outputs": [
    {
     "data": {
      "text/plain": [
       "tensor([2., 0., 2., 0.])"
      ]
     },
     "execution_count": 75,
     "metadata": {},
     "output_type": "execute_result"
    }
   ],
   "source": [
    "# torch.eq(torch.tensor([4, 3]), torch.tensor([4, 3]))\n",
    "i = 0\n",
    "outputs[i]#, model(inputs[i])"
   ]
  }
 ],
 "metadata": {
  "kernelspec": {
   "display_name": "Python 3 (ipykernel)",
   "language": "python",
   "name": "python3"
  },
  "language_info": {
   "codemirror_mode": {
    "name": "ipython",
    "version": 3
   },
   "file_extension": ".py",
   "mimetype": "text/x-python",
   "name": "python",
   "nbconvert_exporter": "python",
   "pygments_lexer": "ipython3",
   "version": "3.9.13"
  }
 },
 "nbformat": 4,
 "nbformat_minor": 5
}
