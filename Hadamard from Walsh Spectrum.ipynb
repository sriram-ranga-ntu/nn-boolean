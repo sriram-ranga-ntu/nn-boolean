{
 "cells": [
  {
   "cell_type": "code",
   "execution_count": 16,
   "id": "25f9edf3",
   "metadata": {},
   "outputs": [],
   "source": [
    "import torch\n",
    "import torch.nn as nn\n",
    "import torch.nn.functional as F\n",
    "import torch.optim as optim\n",
    "import numpy as np\n",
    "import random\n",
    "from collections import OrderedDict\n",
    "import math"
   ]
  },
  {
   "cell_type": "code",
   "execution_count": 17,
   "id": "76699dd8",
   "metadata": {},
   "outputs": [],
   "source": [
    "#Recursive function to generate Hadamard matrices of order equal to powers of two\n",
    "\n",
    "H = {}\n",
    "H[1] = torch.tensor([[1.0]])\n",
    "def Had(n):\n",
    "    if(n not in H):\n",
    "        Hnby2 = Had(n//2)\n",
    "        Hn = torch.ones(n, n)\n",
    "        for i in range(n//2):\n",
    "            for j in range(n//2):\n",
    "                Hn[i][j] = Hnby2[i][j]\n",
    "                Hn[i+n//2][j] = Hnby2[i][j]\n",
    "                Hn[i][j+n//2] = Hnby2[i][j]\n",
    "                Hn[i+n//2][j+n//2] = -Hnby2[i][j]\n",
    "        H[n] = Hn\n",
    "        return Hn\n",
    "    return H[n]"
   ]
  },
  {
   "cell_type": "code",
   "execution_count": 18,
   "id": "24262d50",
   "metadata": {},
   "outputs": [],
   "source": [
    "# Generating n boolean functions in k variables\n",
    "def generate_data(k, n):\n",
    "    two_pow_k = pow(2, k)\n",
    "    # Input validation\n",
    "    if(n<two_pow_k):\n",
    "        print(f\"Need 2^{k} inputs atleast for the model to converge. Give a bigger number for n\")\n",
    "        return []\n",
    "    if(n>pow(2, two_pow_k)):\n",
    "        print(f\"n is greater than 2^2^{k}. Generating max possible functions - 2^2^{k}\")\n",
    "    if(two_pow_k<=16):\n",
    "#         For generating data of sufficient LI inputs:\n",
    "        while(True):\n",
    "            perm = torch.randperm(pow(2, two_pow_k))[:n]\n",
    "            data = [[0.0]*(two_pow_k-len(bin(num)[2:]))+[float(i) for i in bin(num)[2:]] for num in perm]\n",
    "            data = [[1.0 if el==0.0 else -1.0 for el in bool_fun] for bool_fun in data]\n",
    "            if(np.linalg.matrix_rank(data)<two_pow_k):\n",
    "                print(f'Rank ({np.linalg.matrix_rank(data)}) of data is not large enough. Generating again.')\n",
    "            else:\n",
    "                print(f'Data generated. Rank = {np.linalg.matrix_rank(data)}')\n",
    "                break           \n",
    "    else:\n",
    "        # A maximum of 2^2^4 samples are generated (with samples) for any k>4\n",
    "        data = [[1.0 if random.random()>0.5 else -1.0 for i in range(two_pow_k)] for i in range(min(n, pow(2, pow(2, 4))))]\n",
    "        print(\"Data generated.\")\n",
    "    return data            "
   ]
  },
  {
   "cell_type": "code",
   "execution_count": 19,
   "id": "8f16e7d2",
   "metadata": {},
   "outputs": [],
   "source": [
    "# The network takes the processed k variable Boolean function (-1/1 for True/False) as the input and returns its Walsh Spectrum\n",
    "# F -> WalshSpec\n",
    "# WalshSpec = F * W_t\n",
    "\n",
    "# forward(x) returns the Walsh spectrum of the Boolean function x, predict(x) return the non-linearity once the model is trained\n",
    "\n",
    "class NetworkModel(nn.Module):\n",
    "\n",
    "    def __init__(self, k):\n",
    "        two_pow_k = pow(2, k)\n",
    "        super(NetworkModel, self).__init__()\n",
    "        self.lin1 = nn.Linear(two_pow_k, two_pow_k, bias=False)\n",
    "\n",
    "    def forward(self, x):\n",
    "        # Linear function without activation\n",
    "        x = self.lin1(x)\n",
    "        return x\n",
    "    \n",
    "    def predict(self, x):\n",
    "        with torch.no_grad():\n",
    "            self.eval()\n",
    "            two_pow_k = len(x)\n",
    "            nl = torch.round(0.5*(two_pow_k - max(self(x))))\n",
    "        return nl\n",
    "        "
   ]
  },
  {
   "cell_type": "code",
   "execution_count": 20,
   "id": "c4d0a81d",
   "metadata": {},
   "outputs": [],
   "source": [
    "def train_network(model, data, numberOfInputs, learningRate, batchSize, epochs, device, optimizer):\n",
    "    two_pow_k = len(data[0])\n",
    "    n_ep, n_step = 0, 0\n",
    "    for ep in range(0, epochs):\n",
    "        for step in range(math.ceil(numberOfInputs/batchSize)):\n",
    "            optimizer.zero_grad()\n",
    "            input = torch.tensor(data[step:step+batchSize])\n",
    "            output = model(input)\n",
    "            loss = F.mse_loss(torch.matmul(input, Had(two_pow_k)), output)\n",
    "            loss.backward()\n",
    "            optimizer.step()\n",
    "            weight_dict = OrderedDict(model.named_parameters())\n",
    "            weightFunction = weight_dict['lin1.weight'].T\n",
    "            H_error = F.mse_loss(Had(two_pow_k), weightFunction).item()\n",
    "            if(H_error<0.00001):\n",
    "                print(f\"No. of epochs = {ep}, no. of steps = {step+ep*math.ceil(numberOfInputs/batchSize)}\")\n",
    "                n_ep, n_step = ep, step+ep*math.ceil(numberOfInputs/batchSize)\n",
    "                return n_ep, n_step\n",
    "    return -1, epochs*math.ceil(numberOfInputs/batchSize)"
   ]
  },
  {
   "cell_type": "code",
   "execution_count": 21,
   "id": "d58e7650",
   "metadata": {},
   "outputs": [
    {
     "name": "stdout",
     "output_type": "stream",
     "text": [
      "3 8 256\n"
     ]
    }
   ],
   "source": [
    "# Please change the number of variables (k) in the Boolean function here\n",
    "k = 3\n",
    "two_pow_k = pow(2, k)\n",
    "n = pow(2, two_pow_k)\n",
    "\n",
    "print(k, two_pow_k, n)"
   ]
  },
  {
   "cell_type": "code",
   "execution_count": 22,
   "id": "213b9777",
   "metadata": {},
   "outputs": [
    {
     "name": "stdout",
     "output_type": "stream",
     "text": [
      "Data generated. Rank = 8\n",
      "No. of epochs = 26, no. of steps = 212\n",
      "Final weight matrix: \n",
      " tensor([[ 1.0003,  0.9998,  1.0013,  0.9972,  1.0018,  0.9985,  0.9995,  0.9999],\n",
      "        [ 0.9986, -0.9990,  0.9940, -0.9867,  0.9911, -0.9929,  1.0025, -0.9995],\n",
      "        [ 0.9996,  1.0003, -1.0019, -0.9959,  0.9972,  1.0022, -0.9992, -0.9999],\n",
      "        [ 1.0000, -1.0000, -1.0001,  1.0002,  0.9998, -0.9999, -0.9999,  1.0000],\n",
      "        [ 1.0003,  0.9998,  1.0011,  0.9976, -0.9984, -1.0013, -1.0004, -1.0001],\n",
      "        [ 0.9997, -0.9998,  0.9986, -0.9968, -1.0022,  1.0017, -0.9994,  1.0001],\n",
      "        [ 1.0000,  1.0000, -0.9999, -1.0002, -0.9998, -1.0001,  0.9999,  1.0000],\n",
      "        [ 1.0011, -1.0008, -0.9955,  0.9900, -0.9933,  0.9947,  0.9982, -1.0004]],\n",
      "       grad_fn=<PermuteBackward0>)\n",
      "Data generated. Rank = 8\n",
      "No. of epochs = 16, no. of steps = 129\n",
      "Final weight matrix: \n",
      " tensor([[ 1.0006,  0.9995,  1.0009,  1.0001,  1.0011,  0.9996,  0.9995,  1.0002],\n",
      "        [ 1.0003, -0.9981,  0.9990, -1.0023,  1.0022, -1.0011,  0.9998, -0.9978],\n",
      "        [ 1.0012,  0.9943, -0.9946, -0.9945,  0.9981,  1.0022, -1.0020, -1.0034],\n",
      "        [ 1.0011, -1.0011, -0.9983,  1.0025,  1.0008, -1.0000, -0.9995,  0.9983],\n",
      "        [ 0.9993,  1.0053,  0.9947,  0.9952, -0.9969, -1.0023, -0.9992, -0.9974],\n",
      "        [ 0.9987, -0.9959,  0.9966, -1.0065, -0.9976,  0.9984, -0.9989,  1.0030],\n",
      "        [ 1.0010,  0.9920, -0.9928, -0.9935, -1.0038, -0.9964,  0.9989,  0.9957],\n",
      "        [ 0.9996, -0.9978, -1.0039,  0.9989, -1.0002,  0.9989,  1.0005, -0.9987]],\n",
      "       grad_fn=<PermuteBackward0>)\n",
      "Data generated. Rank = 8\n",
      "No. of epochs = 27, no. of steps = 220\n",
      "Final weight matrix: \n",
      " tensor([[ 0.9996,  0.9988,  0.9980,  0.9977,  1.0016,  0.9990,  1.0023,  1.0001],\n",
      "        [ 1.0011, -0.9969,  1.0053, -0.9939,  0.9957, -0.9975,  0.9938, -1.0004],\n",
      "        [ 1.0001,  1.0004, -0.9993, -0.9991,  0.9994,  1.0004, -1.0008, -1.0000],\n",
      "        [ 1.0000, -0.9999, -0.9998,  1.0002,  0.9998, -0.9999, -1.0002,  1.0000],\n",
      "        [ 0.9986,  0.9961,  0.9932,  0.9921, -0.9945, -1.0033, -0.9921, -0.9995],\n",
      "        [ 0.9989, -1.0031,  0.9946, -1.0063, -0.9956,  0.9974, -0.9937,  1.0004],\n",
      "        [ 1.0007,  1.0020, -0.9965, -0.9959, -1.0028, -0.9983,  0.9959,  0.9997],\n",
      "        [ 0.9997, -1.0009, -1.0016,  0.9982, -0.9987,  0.9992,  1.0018, -0.9999]],\n",
      "       grad_fn=<PermuteBackward0>)\n",
      "Average number of epochs = 23.0, steps = 187.0.\n"
     ]
    }
   ],
   "source": [
    "# Additional inputs may not be required to change.\n",
    "learningRate = 0.1\n",
    "batchSize = two_pow_k\n",
    "numberOfInputs = 1*n//4      # change to vary the fraction of function space used for training (default at 1/4th)\n",
    "max_epochs = 500\n",
    "\n",
    "device = torch.device('cpu')\n",
    "eps, steps = [], []\n",
    "model = None\n",
    "for i in range(3):\n",
    "    data = generate_data(k, numberOfInputs)\n",
    "    model =  NetworkModel(k)\n",
    "    optimizer = optim.SGD(model.parameters(), lr=learningRate, momentum=0.9)\n",
    "    n_ep, n_steps = train_network(model, data, numberOfInputs, learningRate, batchSize, max_epochs, device, optimizer)\n",
    "    weightMatrix = OrderedDict(model.named_parameters())['lin1.weight'].T\n",
    "    print(\"Final weight matrix: \\n\", weightMatrix)\n",
    "    if(n_ep!=-1):\n",
    "        eps.append(n_ep)\n",
    "        steps.append(n_steps)\n",
    "if(len(eps)!=0):\n",
    "    print(f\"Average number of epochs = {sum(eps)/len(eps)}, steps = {sum(steps)/len(steps)}.\")\n",
    "    if(len(eps)<3):\n",
    "        print(f\"Network converged well enough only {len(eps)} times out of 3\")\n",
    "else:\n",
    "    print(\"Network did not converge well\")"
   ]
  },
  {
   "cell_type": "code",
   "execution_count": 23,
   "id": "29b32b34",
   "metadata": {},
   "outputs": [
    {
     "data": {
      "text/plain": [
       "tensor(2.)"
      ]
     },
     "execution_count": 23,
     "metadata": {},
     "output_type": "execute_result"
    }
   ],
   "source": [
    "# Predict the non-linearity by passing the processed Boolean function of the form (-1)^f\n",
    "\n",
    "bf = torch.tensor([1.0, -1.0, 1.0, 1.0, -1.0, -1.0, 1.0, -1.0])\n",
    "model.predict(bf)"
   ]
  }
 ],
 "metadata": {
  "kernelspec": {
   "display_name": "Python 3 (ipykernel)",
   "language": "python",
   "name": "python3"
  },
  "language_info": {
   "codemirror_mode": {
    "name": "ipython",
    "version": 3
   },
   "file_extension": ".py",
   "mimetype": "text/x-python",
   "name": "python",
   "nbconvert_exporter": "python",
   "pygments_lexer": "ipython3",
   "version": "3.9.13"
  }
 },
 "nbformat": 4,
 "nbformat_minor": 5
}
