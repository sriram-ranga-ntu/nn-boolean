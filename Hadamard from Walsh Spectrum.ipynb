{
 "cells": [
  {
   "cell_type": "code",
   "execution_count": 1,
   "id": "25f9edf3",
   "metadata": {},
   "outputs": [],
   "source": [
    "import torch\n",
    "import torch.nn as nn\n",
    "import torch.nn.functional as F\n",
    "import torch.optim as optim\n",
    "import numpy as np\n",
    "import random\n",
    "from collections import OrderedDict\n",
    "import math"
   ]
  },
  {
   "cell_type": "code",
   "execution_count": 2,
   "id": "76699dd8",
   "metadata": {},
   "outputs": [],
   "source": [
    "#Recursive function to generate Hadamard matrices of order equal to powers of two\n",
    "\n",
    "H = {}\n",
    "H[1] = torch.tensor([[1.0]])\n",
    "def Had(n):\n",
    "    if(n not in H):\n",
    "        Hnby2 = Had(n//2)\n",
    "        Hn = torch.ones(n, n)\n",
    "        for i in range(n//2):\n",
    "            for j in range(n//2):\n",
    "                Hn[i][j] = Hnby2[i][j]\n",
    "                Hn[i+n//2][j] = Hnby2[i][j]\n",
    "                Hn[i][j+n//2] = Hnby2[i][j]\n",
    "                Hn[i+n//2][j+n//2] = -Hnby2[i][j]\n",
    "        H[n] = Hn\n",
    "        return Hn\n",
    "    return H[n]"
   ]
  },
  {
   "cell_type": "code",
   "execution_count": 3,
   "id": "24262d50",
   "metadata": {},
   "outputs": [],
   "source": [
    "# Generating n boolean functions in k variables\n",
    "def generate_data(k, n):\n",
    "    two_pow_k = pow(2, k)\n",
    "    # Input validation\n",
    "    if(n<two_pow_k):\n",
    "        print(f\"Need 2^{k} inputs atleast for the model to converge. Give a bigger number for n\")\n",
    "        return []\n",
    "    if(n>pow(2, two_pow_k)):\n",
    "        print(f\"n is greater than 2^2^{k}. Generating max possible functions - 2^2^{k}\")\n",
    "    if(two_pow_k<=16):\n",
    "#         For generating data of sufficient LI inputs:\n",
    "        while(True):\n",
    "            perm = torch.randperm(pow(2, two_pow_k))[:n]\n",
    "            data = [[0.0]*(two_pow_k-len(bin(num)[2:]))+[float(i) for i in bin(num)[2:]] for num in perm]\n",
    "            # replacing f with (-1)^f\n",
    "            data = [[1.0 if el==0.0 else -1.0 for el in bool_fun] for bool_fun in data]\n",
    "            if(np.linalg.matrix_rank(data)<two_pow_k):\n",
    "                print(f'Rank ({np.linalg.matrix_rank(data)}) of data is not large enough. Generating again.')\n",
    "            else:\n",
    "                print(f'Data generated. Rank = {np.linalg.matrix_rank(data)}')\n",
    "                break           \n",
    "    else:\n",
    "        # A maximum of 2^2^4 samples are generated (with samples) for any k>4\n",
    "        data = [[1.0 if random.random()>0.5 else -1.0 for i in range(two_pow_k)] for i in range(n)]\n",
    "        print(\"Data generated.\")\n",
    "    return data            "
   ]
  },
  {
   "cell_type": "code",
   "execution_count": 4,
   "id": "8f16e7d2",
   "metadata": {},
   "outputs": [],
   "source": [
    "# The network takes the processed k variable Boolean function (-1/1 for True/False) as the input and returns its Walsh Spectrum\n",
    "# F -> WalshSpec\n",
    "# WalshSpec = F * W_t\n",
    "\n",
    "# forward(x) returns the Walsh spectrum of the Boolean function x, predict(x) return the non-linearity once the model is trained\n",
    "\n",
    "class NetworkModel(nn.Module):\n",
    "\n",
    "    def __init__(self, k):\n",
    "        two_pow_k = pow(2, k)\n",
    "        super(NetworkModel, self).__init__()\n",
    "        self.lin1 = nn.Linear(two_pow_k, two_pow_k, bias=False)\n",
    "\n",
    "    def forward(self, x):\n",
    "        # Linear function without activation\n",
    "        x = self.lin1(x)\n",
    "        return x\n",
    "    \n",
    "    def predict(self, x):\n",
    "        with torch.no_grad():\n",
    "            self.eval()\n",
    "            two_pow_k = len(x)\n",
    "            nl = torch.round(0.5*(two_pow_k - max(self(x))))\n",
    "        return nl\n",
    "        "
   ]
  },
  {
   "cell_type": "code",
   "execution_count": 5,
   "id": "c4d0a81d",
   "metadata": {},
   "outputs": [],
   "source": [
    "def train_network(model, data, numberOfInputs, learningRate, batchSize, epochs, device, optimizer):\n",
    "    two_pow_k = len(data[0])\n",
    "    n_ep, n_step = 0, 0\n",
    "    for ep in range(0, epochs):\n",
    "        for step in range(math.ceil(numberOfInputs/batchSize)):\n",
    "            optimizer.zero_grad()\n",
    "            input = torch.tensor(data[step:step+batchSize])\n",
    "            output = model(input)\n",
    "            loss = F.mse_loss(torch.matmul(input, Had(two_pow_k)), output)\n",
    "            loss.backward()\n",
    "            optimizer.step()\n",
    "            weight_dict = OrderedDict(model.named_parameters())\n",
    "            weightFunction = weight_dict['lin1.weight'].T\n",
    "            H_error = F.mse_loss(Had(two_pow_k), weightFunction).item()\n",
    "            if(H_error<0.00001):\n",
    "                print(f\"No. of epochs = {ep}, no. of steps = {step+ep*math.ceil(numberOfInputs/batchSize)}\")\n",
    "                n_ep, n_step = ep, step+ep*math.ceil(numberOfInputs/batchSize)\n",
    "                return n_ep, n_step\n",
    "    return -1, epochs*math.ceil(numberOfInputs/batchSize)"
   ]
  },
  {
   "cell_type": "code",
   "execution_count": 13,
   "id": "d58e7650",
   "metadata": {},
   "outputs": [
    {
     "name": "stdout",
     "output_type": "stream",
     "text": [
      "3 8 256\n"
     ]
    }
   ],
   "source": [
    "# Please change the number of variables (k) in the Boolean function here\n",
    "k = 3\n",
    "two_pow_k = pow(2, k)\n",
    "n = pow(2, two_pow_k)\n",
    "\n",
    "print(k, two_pow_k, n)"
   ]
  },
  {
   "cell_type": "code",
   "execution_count": 14,
   "id": "213b9777",
   "metadata": {},
   "outputs": [
    {
     "name": "stdout",
     "output_type": "stream",
     "text": [
      "Data generated. Rank = 8\n",
      "No. of epochs = 31, no. of steps = 249\n",
      "Final weight matrix: \n",
      " tensor([[ 0.9901,  0.9947,  0.9951,  1.0020,  0.9922,  0.9959,  0.9934,  1.0031],\n",
      "        [ 0.9914, -1.0046,  0.9957, -0.9982,  0.9932, -1.0036,  0.9942, -0.9973],\n",
      "        [ 0.9951,  0.9974, -1.0024, -0.9990,  0.9962,  0.9980, -1.0033, -0.9985],\n",
      "        [ 1.0032, -0.9983, -0.9984,  0.9993,  1.0026, -0.9987, -0.9978,  0.9990],\n",
      "        [ 0.9987,  0.9993,  0.9994,  1.0003, -1.0010, -1.0005, -1.0009, -0.9996],\n",
      "        [ 1.0003, -0.9998,  1.0002, -1.0001, -0.9997,  1.0001, -0.9998,  0.9999],\n",
      "        [ 0.9989,  0.9994, -1.0006, -0.9998, -1.0009, -1.0005,  0.9992,  1.0003],\n",
      "        [ 0.9983, -1.0009, -1.0008,  1.0003, -1.0013,  0.9993,  0.9989, -0.9995]],\n",
      "       grad_fn=<PermuteBackward0>)\n"
     ]
    }
   ],
   "source": [
    "# Additional inputs may not be required to change.\n",
    "learningRate = 0.1\n",
    "batchSize = two_pow_k\n",
    "numberOfInputs = 1*n//4      # change to vary the fraction of function space used for training (default at 1/4th)\n",
    "max_epochs = 500\n",
    "\n",
    "device = torch.device('cpu')\n",
    "model = None\n",
    "data = generate_data(k, numberOfInputs)\n",
    "model =  NetworkModel(k)\n",
    "optimizer = optim.SGD(model.parameters(), lr=learningRate, momentum=0.9)\n",
    "n_ep, n_steps = train_network(model, data, numberOfInputs, learningRate, batchSize, max_epochs, device, optimizer)\n",
    "weightMatrix = OrderedDict(model.named_parameters())['lin1.weight'].T\n",
    "print(\"Final weight matrix: \\n\", weightMatrix)"
   ]
  },
  {
   "cell_type": "code",
   "execution_count": 15,
   "id": "29b32b34",
   "metadata": {},
   "outputs": [
    {
     "data": {
      "text/plain": [
       "tensor(2.)"
      ]
     },
     "execution_count": 15,
     "metadata": {},
     "output_type": "execute_result"
    }
   ],
   "source": [
    "# Predict the non-linearity by passing the processed Boolean function of the form (-1)^f\n",
    "\n",
    "bf = torch.tensor([1.0, -1.0, 1.0, 1.0, -1.0, -1.0, 1.0, -1.0])\n",
    "model.predict(bf)"
   ]
  }
 ],
 "metadata": {
  "kernelspec": {
   "display_name": "Python 3 (ipykernel)",
   "language": "python",
   "name": "python3"
  },
  "language_info": {
   "codemirror_mode": {
    "name": "ipython",
    "version": 3
   },
   "file_extension": ".py",
   "mimetype": "text/x-python",
   "name": "python",
   "nbconvert_exporter": "python",
   "pygments_lexer": "ipython3",
   "version": "3.9.13"
  }
 },
 "nbformat": 4,
 "nbformat_minor": 5
}
